{
 "metadata": {
  "language_info": {
   "codemirror_mode": {
    "name": "ipython",
    "version": 3
   },
   "file_extension": ".py",
   "mimetype": "text/x-python",
   "name": "python",
   "nbconvert_exporter": "python",
   "pygments_lexer": "ipython3",
   "version": "3.8.5-final"
  },
  "orig_nbformat": 2,
  "kernelspec": {
   "name": "python3",
   "display_name": "Python 3.8.5 64-bit",
   "metadata": {
    "interpreter": {
     "hash": "44b085c88637170b78eaf0eb2fce20df4b00e5857441b8c0f7fece75f04e5cf9"
    }
   }
  }
 },
 "nbformat": 4,
 "nbformat_minor": 2,
 "cells": [
  {
   "source": [
    "# The datasets"
   ],
   "cell_type": "markdown",
   "metadata": {}
  },
  {
   "source": [
    "This is a quick look a the datasets generated in this project."
   ],
   "cell_type": "markdown",
   "metadata": {}
  },
  {
   "source": [
    "**WARNING: This is still a work in progress and it is likely that the data will change in shape, column names, number of tables, etc.  This is provided to show a snapshot of the current project only.**"
   ],
   "cell_type": "markdown",
   "metadata": {}
  },
  {
   "cell_type": "code",
   "execution_count": 1,
   "metadata": {},
   "outputs": [],
   "source": [
    "import json\n",
    "\n",
    "import pandas as pd\n",
    "import numpy as np"
   ]
  },
  {
   "cell_type": "code",
   "execution_count": 2,
   "metadata": {},
   "outputs": [],
   "source": [
    "DATA_DIRECTORY = './data/'  # change as necessary"
   ]
  },
  {
   "source": [
    "## The traced data"
   ],
   "cell_type": "markdown",
   "metadata": {}
  },
  {
   "source": [
    "This is the data which was traced by the tracing code and gathered into tables."
   ],
   "cell_type": "markdown",
   "metadata": {}
  },
  {
   "source": [
    "`tactic_instances` includes position data and a unique key for every tactic that was executed and traced (which is not every tactic in the code)"
   ],
   "cell_type": "markdown",
   "metadata": {}
  },
  {
   "cell_type": "code",
   "execution_count": 3,
   "metadata": {},
   "outputs": [
    {
     "output_type": "execute_result",
     "data": {
      "text/plain": [
       "                  table          key  executed  \\\n",
       "0      tactic_instances  1950:20:2:1      True   \n",
       "1      tactic_instances   1959:4:1:1      True   \n",
       "2      tactic_instances   1962:4:1:1      True   \n",
       "3      tactic_instances   1968:4:1:1      True   \n",
       "4      tactic_instances   1965:4:1:1      True   \n",
       "...                 ...          ...       ...   \n",
       "54274  tactic_instances   100:48:2:2      True   \n",
       "54275  tactic_instances   100:46:1:1      True   \n",
       "54276  tactic_instances   101:21:2:1      True   \n",
       "54277  tactic_instances   101:38:2:2      True   \n",
       "54278  tactic_instances   101:36:1:1      True   \n",
       "\n",
       "                                      filename  trace_pos_line  \\\n",
       "0      lean/library/init/meta/interactive.lean            1982   \n",
       "1      lean/library/init/meta/interactive.lean            1959   \n",
       "2      lean/library/init/meta/interactive.lean            1962   \n",
       "3      lean/library/init/meta/interactive.lean            1968   \n",
       "4      lean/library/init/meta/interactive.lean            1965   \n",
       "...                                        ...             ...   \n",
       "54274     mathlib/src/set_theory/cardinal.lean             100   \n",
       "54275     mathlib/src/set_theory/cardinal.lean             100   \n",
       "54276     mathlib/src/set_theory/cardinal.lean             101   \n",
       "54277     mathlib/src/set_theory/cardinal.lean             101   \n",
       "54278     mathlib/src/set_theory/cardinal.lean             101   \n",
       "\n",
       "       trace_pos_column  line  column  depth  index       proof        block  \\\n",
       "0                     1  1950      20      2      1  1983:4:1:1  1950:20:2:1   \n",
       "1                     4  1959       4      1      1  1959:4:1:1   1959:4:1:1   \n",
       "2                     4  1962       4      1      1  1962:4:1:1   1962:4:1:1   \n",
       "3                     4  1968       4      1      1  1968:4:1:1   1968:4:1:1   \n",
       "4                     4  1965       4      1      1  1965:4:1:1   1965:4:1:1   \n",
       "...                 ...   ...     ...    ...    ...         ...          ...   \n",
       "54274                48   100      48      2      2  100:46:1:1   100:21:2:1   \n",
       "54275                46   100      46      1      1  100:46:1:1   100:46:1:1   \n",
       "54276                21   101      21      2      1  101:36:1:1   101:21:2:1   \n",
       "54277                38   101      38      2      2  101:36:1:1   101:21:2:1   \n",
       "54278                36   101      36      1      1  101:36:1:1   101:36:1:1   \n",
       "\n",
       "           parent        prev  succeeded  \n",
       "0      1983:4:1:1  1983:4:1:1        1.0  \n",
       "1         0:0:0:0     0:0:0:0        1.0  \n",
       "2         0:0:0:0     0:0:0:0        1.0  \n",
       "3         0:0:0:0     0:0:0:0        1.0  \n",
       "4         0:0:0:0     0:0:0:0        1.0  \n",
       "...           ...         ...        ...  \n",
       "54274  100:46:1:1  100:21:2:1        1.0  \n",
       "54275     0:0:0:0     0:0:0:0        1.0  \n",
       "54276  101:36:1:1  101:36:1:1        1.0  \n",
       "54277  101:36:1:1  101:21:2:1        1.0  \n",
       "54278     0:0:0:0     0:0:0:0        1.0  \n",
       "\n",
       "[54279 rows x 15 columns]"
      ],
      "text/html": "<div>\n<style scoped>\n    .dataframe tbody tr th:only-of-type {\n        vertical-align: middle;\n    }\n\n    .dataframe tbody tr th {\n        vertical-align: top;\n    }\n\n    .dataframe thead th {\n        text-align: right;\n    }\n</style>\n<table border=\"1\" class=\"dataframe\">\n  <thead>\n    <tr style=\"text-align: right;\">\n      <th></th>\n      <th>table</th>\n      <th>key</th>\n      <th>executed</th>\n      <th>filename</th>\n      <th>trace_pos_line</th>\n      <th>trace_pos_column</th>\n      <th>line</th>\n      <th>column</th>\n      <th>depth</th>\n      <th>index</th>\n      <th>proof</th>\n      <th>block</th>\n      <th>parent</th>\n      <th>prev</th>\n      <th>succeeded</th>\n    </tr>\n  </thead>\n  <tbody>\n    <tr>\n      <th>0</th>\n      <td>tactic_instances</td>\n      <td>1950:20:2:1</td>\n      <td>True</td>\n      <td>lean/library/init/meta/interactive.lean</td>\n      <td>1982</td>\n      <td>1</td>\n      <td>1950</td>\n      <td>20</td>\n      <td>2</td>\n      <td>1</td>\n      <td>1983:4:1:1</td>\n      <td>1950:20:2:1</td>\n      <td>1983:4:1:1</td>\n      <td>1983:4:1:1</td>\n      <td>1.0</td>\n    </tr>\n    <tr>\n      <th>1</th>\n      <td>tactic_instances</td>\n      <td>1959:4:1:1</td>\n      <td>True</td>\n      <td>lean/library/init/meta/interactive.lean</td>\n      <td>1959</td>\n      <td>4</td>\n      <td>1959</td>\n      <td>4</td>\n      <td>1</td>\n      <td>1</td>\n      <td>1959:4:1:1</td>\n      <td>1959:4:1:1</td>\n      <td>0:0:0:0</td>\n      <td>0:0:0:0</td>\n      <td>1.0</td>\n    </tr>\n    <tr>\n      <th>2</th>\n      <td>tactic_instances</td>\n      <td>1962:4:1:1</td>\n      <td>True</td>\n      <td>lean/library/init/meta/interactive.lean</td>\n      <td>1962</td>\n      <td>4</td>\n      <td>1962</td>\n      <td>4</td>\n      <td>1</td>\n      <td>1</td>\n      <td>1962:4:1:1</td>\n      <td>1962:4:1:1</td>\n      <td>0:0:0:0</td>\n      <td>0:0:0:0</td>\n      <td>1.0</td>\n    </tr>\n    <tr>\n      <th>3</th>\n      <td>tactic_instances</td>\n      <td>1968:4:1:1</td>\n      <td>True</td>\n      <td>lean/library/init/meta/interactive.lean</td>\n      <td>1968</td>\n      <td>4</td>\n      <td>1968</td>\n      <td>4</td>\n      <td>1</td>\n      <td>1</td>\n      <td>1968:4:1:1</td>\n      <td>1968:4:1:1</td>\n      <td>0:0:0:0</td>\n      <td>0:0:0:0</td>\n      <td>1.0</td>\n    </tr>\n    <tr>\n      <th>4</th>\n      <td>tactic_instances</td>\n      <td>1965:4:1:1</td>\n      <td>True</td>\n      <td>lean/library/init/meta/interactive.lean</td>\n      <td>1965</td>\n      <td>4</td>\n      <td>1965</td>\n      <td>4</td>\n      <td>1</td>\n      <td>1</td>\n      <td>1965:4:1:1</td>\n      <td>1965:4:1:1</td>\n      <td>0:0:0:0</td>\n      <td>0:0:0:0</td>\n      <td>1.0</td>\n    </tr>\n    <tr>\n      <th>...</th>\n      <td>...</td>\n      <td>...</td>\n      <td>...</td>\n      <td>...</td>\n      <td>...</td>\n      <td>...</td>\n      <td>...</td>\n      <td>...</td>\n      <td>...</td>\n      <td>...</td>\n      <td>...</td>\n      <td>...</td>\n      <td>...</td>\n      <td>...</td>\n      <td>...</td>\n    </tr>\n    <tr>\n      <th>54274</th>\n      <td>tactic_instances</td>\n      <td>100:48:2:2</td>\n      <td>True</td>\n      <td>mathlib/src/set_theory/cardinal.lean</td>\n      <td>100</td>\n      <td>48</td>\n      <td>100</td>\n      <td>48</td>\n      <td>2</td>\n      <td>2</td>\n      <td>100:46:1:1</td>\n      <td>100:21:2:1</td>\n      <td>100:46:1:1</td>\n      <td>100:21:2:1</td>\n      <td>1.0</td>\n    </tr>\n    <tr>\n      <th>54275</th>\n      <td>tactic_instances</td>\n      <td>100:46:1:1</td>\n      <td>True</td>\n      <td>mathlib/src/set_theory/cardinal.lean</td>\n      <td>100</td>\n      <td>46</td>\n      <td>100</td>\n      <td>46</td>\n      <td>1</td>\n      <td>1</td>\n      <td>100:46:1:1</td>\n      <td>100:46:1:1</td>\n      <td>0:0:0:0</td>\n      <td>0:0:0:0</td>\n      <td>1.0</td>\n    </tr>\n    <tr>\n      <th>54276</th>\n      <td>tactic_instances</td>\n      <td>101:21:2:1</td>\n      <td>True</td>\n      <td>mathlib/src/set_theory/cardinal.lean</td>\n      <td>101</td>\n      <td>21</td>\n      <td>101</td>\n      <td>21</td>\n      <td>2</td>\n      <td>1</td>\n      <td>101:36:1:1</td>\n      <td>101:21:2:1</td>\n      <td>101:36:1:1</td>\n      <td>101:36:1:1</td>\n      <td>1.0</td>\n    </tr>\n    <tr>\n      <th>54277</th>\n      <td>tactic_instances</td>\n      <td>101:38:2:2</td>\n      <td>True</td>\n      <td>mathlib/src/set_theory/cardinal.lean</td>\n      <td>101</td>\n      <td>38</td>\n      <td>101</td>\n      <td>38</td>\n      <td>2</td>\n      <td>2</td>\n      <td>101:36:1:1</td>\n      <td>101:21:2:1</td>\n      <td>101:36:1:1</td>\n      <td>101:21:2:1</td>\n      <td>1.0</td>\n    </tr>\n    <tr>\n      <th>54278</th>\n      <td>tactic_instances</td>\n      <td>101:36:1:1</td>\n      <td>True</td>\n      <td>mathlib/src/set_theory/cardinal.lean</td>\n      <td>101</td>\n      <td>36</td>\n      <td>101</td>\n      <td>36</td>\n      <td>1</td>\n      <td>1</td>\n      <td>101:36:1:1</td>\n      <td>101:36:1:1</td>\n      <td>0:0:0:0</td>\n      <td>0:0:0:0</td>\n      <td>1.0</td>\n    </tr>\n  </tbody>\n</table>\n<p>54279 rows × 15 columns</p>\n</div>"
     },
     "metadata": {},
     "execution_count": 3
    }
   ],
   "source": [
    "tactic_instances = pd.read_json(DATA_DIRECTORY + 'raw_traced_data/tactic_instances.json', orient='records')\n",
    "tactic_instances"
   ]
  },
  {
   "source": [
    "`tactic_state.json` includes basic tactic state information both before and after the tactic executes (again, only for recorded tactics which are a subset of all tactics in the code).  This can be added to."
   ],
   "cell_type": "markdown",
   "metadata": {}
  },
  {
   "cell_type": "code",
   "execution_count": 4,
   "metadata": {},
   "outputs": [
    {
     "output_type": "execute_result",
     "data": {
      "text/plain": [
       "               table                 key tactic_instance  \\\n",
       "0       tactic_state  1950:20:2:1:before     1950:20:2:1   \n",
       "1       tactic_state   1950:20:2:1:after     1950:20:2:1   \n",
       "2       tactic_state   1959:4:1:1:before      1959:4:1:1   \n",
       "3       tactic_state    1959:4:1:1:after      1959:4:1:1   \n",
       "4       tactic_state   1962:4:1:1:before      1962:4:1:1   \n",
       "...              ...                 ...             ...   \n",
       "108315  tactic_state    101:21:2:1:after      101:21:2:1   \n",
       "108316  tactic_state   101:38:2:2:before      101:38:2:2   \n",
       "108317  tactic_state    101:38:2:2:after      101:38:2:2   \n",
       "108318  tactic_state   101:36:1:1:before      101:36:1:1   \n",
       "108319  tactic_state    101:36:1:1:after      101:36:1:1   \n",
       "\n",
       "                                       filename  trace_pos_line  \\\n",
       "0       lean/library/init/meta/interactive.lean            1982   \n",
       "1       lean/library/init/meta/interactive.lean            1982   \n",
       "2       lean/library/init/meta/interactive.lean            1959   \n",
       "3       lean/library/init/meta/interactive.lean            1959   \n",
       "4       lean/library/init/meta/interactive.lean            1962   \n",
       "...                                         ...             ...   \n",
       "108315     mathlib/src/set_theory/cardinal.lean             101   \n",
       "108316     mathlib/src/set_theory/cardinal.lean             101   \n",
       "108317     mathlib/src/set_theory/cardinal.lean             101   \n",
       "108318     mathlib/src/set_theory/cardinal.lean             101   \n",
       "108319     mathlib/src/set_theory/cardinal.lean             101   \n",
       "\n",
       "        trace_pos_column before_after  env_fingerprint  goal_count  \n",
       "0                      1       before     3.935797e+18           1  \n",
       "1                      1        after     3.935797e+18           1  \n",
       "2                      4       before     3.935797e+18           1  \n",
       "3                      4        after     3.935797e+18           0  \n",
       "4                      4       before     3.935797e+18           1  \n",
       "...                  ...          ...              ...         ...  \n",
       "108315                21        after     8.066224e+18           1  \n",
       "108316                38       before     8.066224e+18           1  \n",
       "108317                38        after     8.066224e+18           0  \n",
       "108318                36       before     8.066224e+18           1  \n",
       "108319                36        after     8.066224e+18           0  \n",
       "\n",
       "[108320 rows x 9 columns]"
      ],
      "text/html": "<div>\n<style scoped>\n    .dataframe tbody tr th:only-of-type {\n        vertical-align: middle;\n    }\n\n    .dataframe tbody tr th {\n        vertical-align: top;\n    }\n\n    .dataframe thead th {\n        text-align: right;\n    }\n</style>\n<table border=\"1\" class=\"dataframe\">\n  <thead>\n    <tr style=\"text-align: right;\">\n      <th></th>\n      <th>table</th>\n      <th>key</th>\n      <th>tactic_instance</th>\n      <th>filename</th>\n      <th>trace_pos_line</th>\n      <th>trace_pos_column</th>\n      <th>before_after</th>\n      <th>env_fingerprint</th>\n      <th>goal_count</th>\n    </tr>\n  </thead>\n  <tbody>\n    <tr>\n      <th>0</th>\n      <td>tactic_state</td>\n      <td>1950:20:2:1:before</td>\n      <td>1950:20:2:1</td>\n      <td>lean/library/init/meta/interactive.lean</td>\n      <td>1982</td>\n      <td>1</td>\n      <td>before</td>\n      <td>3.935797e+18</td>\n      <td>1</td>\n    </tr>\n    <tr>\n      <th>1</th>\n      <td>tactic_state</td>\n      <td>1950:20:2:1:after</td>\n      <td>1950:20:2:1</td>\n      <td>lean/library/init/meta/interactive.lean</td>\n      <td>1982</td>\n      <td>1</td>\n      <td>after</td>\n      <td>3.935797e+18</td>\n      <td>1</td>\n    </tr>\n    <tr>\n      <th>2</th>\n      <td>tactic_state</td>\n      <td>1959:4:1:1:before</td>\n      <td>1959:4:1:1</td>\n      <td>lean/library/init/meta/interactive.lean</td>\n      <td>1959</td>\n      <td>4</td>\n      <td>before</td>\n      <td>3.935797e+18</td>\n      <td>1</td>\n    </tr>\n    <tr>\n      <th>3</th>\n      <td>tactic_state</td>\n      <td>1959:4:1:1:after</td>\n      <td>1959:4:1:1</td>\n      <td>lean/library/init/meta/interactive.lean</td>\n      <td>1959</td>\n      <td>4</td>\n      <td>after</td>\n      <td>3.935797e+18</td>\n      <td>0</td>\n    </tr>\n    <tr>\n      <th>4</th>\n      <td>tactic_state</td>\n      <td>1962:4:1:1:before</td>\n      <td>1962:4:1:1</td>\n      <td>lean/library/init/meta/interactive.lean</td>\n      <td>1962</td>\n      <td>4</td>\n      <td>before</td>\n      <td>3.935797e+18</td>\n      <td>1</td>\n    </tr>\n    <tr>\n      <th>...</th>\n      <td>...</td>\n      <td>...</td>\n      <td>...</td>\n      <td>...</td>\n      <td>...</td>\n      <td>...</td>\n      <td>...</td>\n      <td>...</td>\n      <td>...</td>\n    </tr>\n    <tr>\n      <th>108315</th>\n      <td>tactic_state</td>\n      <td>101:21:2:1:after</td>\n      <td>101:21:2:1</td>\n      <td>mathlib/src/set_theory/cardinal.lean</td>\n      <td>101</td>\n      <td>21</td>\n      <td>after</td>\n      <td>8.066224e+18</td>\n      <td>1</td>\n    </tr>\n    <tr>\n      <th>108316</th>\n      <td>tactic_state</td>\n      <td>101:38:2:2:before</td>\n      <td>101:38:2:2</td>\n      <td>mathlib/src/set_theory/cardinal.lean</td>\n      <td>101</td>\n      <td>38</td>\n      <td>before</td>\n      <td>8.066224e+18</td>\n      <td>1</td>\n    </tr>\n    <tr>\n      <th>108317</th>\n      <td>tactic_state</td>\n      <td>101:38:2:2:after</td>\n      <td>101:38:2:2</td>\n      <td>mathlib/src/set_theory/cardinal.lean</td>\n      <td>101</td>\n      <td>38</td>\n      <td>after</td>\n      <td>8.066224e+18</td>\n      <td>0</td>\n    </tr>\n    <tr>\n      <th>108318</th>\n      <td>tactic_state</td>\n      <td>101:36:1:1:before</td>\n      <td>101:36:1:1</td>\n      <td>mathlib/src/set_theory/cardinal.lean</td>\n      <td>101</td>\n      <td>36</td>\n      <td>before</td>\n      <td>8.066224e+18</td>\n      <td>1</td>\n    </tr>\n    <tr>\n      <th>108319</th>\n      <td>tactic_state</td>\n      <td>101:36:1:1:after</td>\n      <td>101:36:1:1</td>\n      <td>mathlib/src/set_theory/cardinal.lean</td>\n      <td>101</td>\n      <td>36</td>\n      <td>after</td>\n      <td>8.066224e+18</td>\n      <td>0</td>\n    </tr>\n  </tbody>\n</table>\n<p>108320 rows × 9 columns</p>\n</div>"
     },
     "metadata": {},
     "execution_count": 4
    }
   ],
   "source": [
    "tactic_state = pd.read_json(DATA_DIRECTORY + 'raw_traced_data/tactic_state.json', orient='records')\n",
    "tactic_state"
   ]
  },
  {
   "source": [
    "`tactic_state_goal.json` includes basic tactic state goal information both before and after the tactic executes."
   ],
   "cell_type": "markdown",
   "metadata": {}
  },
  {
   "cell_type": "code",
   "execution_count": 5,
   "metadata": {},
   "outputs": [
    {
     "output_type": "execute_result",
     "data": {
      "text/plain": [
       "                    table                   key        tactic_state  \\\n",
       "0       tactic_state_goal  1950:20:2:1:before:0  1950:20:2:1:before   \n",
       "1       tactic_state_goal   1950:20:2:1:after:0   1950:20:2:1:after   \n",
       "2       tactic_state_goal   1959:4:1:1:before:0   1959:4:1:1:before   \n",
       "3       tactic_state_goal   1962:4:1:1:before:0   1962:4:1:1:before   \n",
       "4       tactic_state_goal   1968:4:1:1:before:0   1968:4:1:1:before   \n",
       "...                   ...                   ...                 ...   \n",
       "102317  tactic_state_goal   100:46:1:1:before:0   100:46:1:1:before   \n",
       "102318  tactic_state_goal   101:21:2:1:before:0   101:21:2:1:before   \n",
       "102319  tactic_state_goal    101:21:2:1:after:0    101:21:2:1:after   \n",
       "102320  tactic_state_goal   101:38:2:2:before:0   101:38:2:2:before   \n",
       "102321  tactic_state_goal   101:36:1:1:before:0   101:36:1:1:before   \n",
       "\n",
       "                                       filename  trace_pos_line  \\\n",
       "0       lean/library/init/meta/interactive.lean            1982   \n",
       "1       lean/library/init/meta/interactive.lean            1982   \n",
       "2       lean/library/init/meta/interactive.lean            1959   \n",
       "3       lean/library/init/meta/interactive.lean            1962   \n",
       "4       lean/library/init/meta/interactive.lean            1968   \n",
       "...                                         ...             ...   \n",
       "102317     mathlib/src/set_theory/cardinal.lean             100   \n",
       "102318     mathlib/src/set_theory/cardinal.lean             101   \n",
       "102319     mathlib/src/set_theory/cardinal.lean             101   \n",
       "102320     mathlib/src/set_theory/cardinal.lean             101   \n",
       "102321     mathlib/src/set_theory/cardinal.lean             101   \n",
       "\n",
       "        trace_pos_column  ix   goal_hash  \\\n",
       "0                      1   0  1060296174   \n",
       "1                      1   0  1063525906   \n",
       "2                      4   0  1393033964   \n",
       "3                      4   0  1798450248   \n",
       "4                      4   0  1252464492   \n",
       "...                  ...  ..         ...   \n",
       "102317                46   0  1089046204   \n",
       "102318                21   0  1188628090   \n",
       "102319                21   0  1166395734   \n",
       "102320                38   0  1166395734   \n",
       "102321                36   0  1188628090   \n",
       "\n",
       "                                                  goal_pp  \n",
       "0       α : Type u,\\nh₁ : α,\\nt₁ : list α,\\nh₂ : α,\\nt...  \n",
       "1       α : Type u,\\nh₁ : α,\\nt₁ : list α,\\nh₂ : α,\\nt...  \n",
       "2       α : Type u,\\nβ : Type v,\\na₁ a₂ : α\\n⊢ sum.inl...  \n",
       "3       α : Type u,\\nβ : Type v,\\nb₁ b₂ : β\\n⊢ sum.inr...  \n",
       "4       α : Sort u,\\nβ : Sort v,\\nb₁ b₂ : β\\n⊢ psum.in...  \n",
       "...                                                   ...  \n",
       "102317        ⊢ ∀ (a b : cardinal), a ≤ b → b ≤ a → a = b  \n",
       "102318                ⊢ ∀ (a b : cardinal), a ≤ b ∨ b ≤ a  \n",
       "102319  α β : Type u\\n⊢ quot.mk setoid.r α ≤ quot.mk s...  \n",
       "102320  α β : Type u\\n⊢ quot.mk setoid.r α ≤ quot.mk s...  \n",
       "102321                ⊢ ∀ (a b : cardinal), a ≤ b ∨ b ≤ a  \n",
       "\n",
       "[102322 rows x 9 columns]"
      ],
      "text/html": "<div>\n<style scoped>\n    .dataframe tbody tr th:only-of-type {\n        vertical-align: middle;\n    }\n\n    .dataframe tbody tr th {\n        vertical-align: top;\n    }\n\n    .dataframe thead th {\n        text-align: right;\n    }\n</style>\n<table border=\"1\" class=\"dataframe\">\n  <thead>\n    <tr style=\"text-align: right;\">\n      <th></th>\n      <th>table</th>\n      <th>key</th>\n      <th>tactic_state</th>\n      <th>filename</th>\n      <th>trace_pos_line</th>\n      <th>trace_pos_column</th>\n      <th>ix</th>\n      <th>goal_hash</th>\n      <th>goal_pp</th>\n    </tr>\n  </thead>\n  <tbody>\n    <tr>\n      <th>0</th>\n      <td>tactic_state_goal</td>\n      <td>1950:20:2:1:before:0</td>\n      <td>1950:20:2:1:before</td>\n      <td>lean/library/init/meta/interactive.lean</td>\n      <td>1982</td>\n      <td>1</td>\n      <td>0</td>\n      <td>1060296174</td>\n      <td>α : Type u,\\nh₁ : α,\\nt₁ : list α,\\nh₂ : α,\\nt...</td>\n    </tr>\n    <tr>\n      <th>1</th>\n      <td>tactic_state_goal</td>\n      <td>1950:20:2:1:after:0</td>\n      <td>1950:20:2:1:after</td>\n      <td>lean/library/init/meta/interactive.lean</td>\n      <td>1982</td>\n      <td>1</td>\n      <td>0</td>\n      <td>1063525906</td>\n      <td>α : Type u,\\nh₁ : α,\\nt₁ : list α,\\nh₂ : α,\\nt...</td>\n    </tr>\n    <tr>\n      <th>2</th>\n      <td>tactic_state_goal</td>\n      <td>1959:4:1:1:before:0</td>\n      <td>1959:4:1:1:before</td>\n      <td>lean/library/init/meta/interactive.lean</td>\n      <td>1959</td>\n      <td>4</td>\n      <td>0</td>\n      <td>1393033964</td>\n      <td>α : Type u,\\nβ : Type v,\\na₁ a₂ : α\\n⊢ sum.inl...</td>\n    </tr>\n    <tr>\n      <th>3</th>\n      <td>tactic_state_goal</td>\n      <td>1962:4:1:1:before:0</td>\n      <td>1962:4:1:1:before</td>\n      <td>lean/library/init/meta/interactive.lean</td>\n      <td>1962</td>\n      <td>4</td>\n      <td>0</td>\n      <td>1798450248</td>\n      <td>α : Type u,\\nβ : Type v,\\nb₁ b₂ : β\\n⊢ sum.inr...</td>\n    </tr>\n    <tr>\n      <th>4</th>\n      <td>tactic_state_goal</td>\n      <td>1968:4:1:1:before:0</td>\n      <td>1968:4:1:1:before</td>\n      <td>lean/library/init/meta/interactive.lean</td>\n      <td>1968</td>\n      <td>4</td>\n      <td>0</td>\n      <td>1252464492</td>\n      <td>α : Sort u,\\nβ : Sort v,\\nb₁ b₂ : β\\n⊢ psum.in...</td>\n    </tr>\n    <tr>\n      <th>...</th>\n      <td>...</td>\n      <td>...</td>\n      <td>...</td>\n      <td>...</td>\n      <td>...</td>\n      <td>...</td>\n      <td>...</td>\n      <td>...</td>\n      <td>...</td>\n    </tr>\n    <tr>\n      <th>102317</th>\n      <td>tactic_state_goal</td>\n      <td>100:46:1:1:before:0</td>\n      <td>100:46:1:1:before</td>\n      <td>mathlib/src/set_theory/cardinal.lean</td>\n      <td>100</td>\n      <td>46</td>\n      <td>0</td>\n      <td>1089046204</td>\n      <td>⊢ ∀ (a b : cardinal), a ≤ b → b ≤ a → a = b</td>\n    </tr>\n    <tr>\n      <th>102318</th>\n      <td>tactic_state_goal</td>\n      <td>101:21:2:1:before:0</td>\n      <td>101:21:2:1:before</td>\n      <td>mathlib/src/set_theory/cardinal.lean</td>\n      <td>101</td>\n      <td>21</td>\n      <td>0</td>\n      <td>1188628090</td>\n      <td>⊢ ∀ (a b : cardinal), a ≤ b ∨ b ≤ a</td>\n    </tr>\n    <tr>\n      <th>102319</th>\n      <td>tactic_state_goal</td>\n      <td>101:21:2:1:after:0</td>\n      <td>101:21:2:1:after</td>\n      <td>mathlib/src/set_theory/cardinal.lean</td>\n      <td>101</td>\n      <td>21</td>\n      <td>0</td>\n      <td>1166395734</td>\n      <td>α β : Type u\\n⊢ quot.mk setoid.r α ≤ quot.mk s...</td>\n    </tr>\n    <tr>\n      <th>102320</th>\n      <td>tactic_state_goal</td>\n      <td>101:38:2:2:before:0</td>\n      <td>101:38:2:2:before</td>\n      <td>mathlib/src/set_theory/cardinal.lean</td>\n      <td>101</td>\n      <td>38</td>\n      <td>0</td>\n      <td>1166395734</td>\n      <td>α β : Type u\\n⊢ quot.mk setoid.r α ≤ quot.mk s...</td>\n    </tr>\n    <tr>\n      <th>102321</th>\n      <td>tactic_state_goal</td>\n      <td>101:36:1:1:before:0</td>\n      <td>101:36:1:1:before</td>\n      <td>mathlib/src/set_theory/cardinal.lean</td>\n      <td>101</td>\n      <td>36</td>\n      <td>0</td>\n      <td>1188628090</td>\n      <td>⊢ ∀ (a b : cardinal), a ≤ b ∨ b ≤ a</td>\n    </tr>\n  </tbody>\n</table>\n<p>102322 rows × 9 columns</p>\n</div>"
     },
     "metadata": {},
     "execution_count": 5
    }
   ],
   "source": [
    "tactic_state_goal = pd.read_json(DATA_DIRECTORY + 'raw_traced_data/tactic_state_goal.json', orient='records')\n",
    "tactic_state_goal"
   ]
  },
  {
   "source": [
    "`tactic_param_pos` includes position data for every *interactive* tactic parameter.  There are some parameters which are not included since they don't go through the parser."
   ],
   "cell_type": "markdown",
   "metadata": {}
  },
  {
   "cell_type": "code",
   "execution_count": 6,
   "metadata": {},
   "outputs": [
    {
     "output_type": "execute_result",
     "data": {
      "text/plain": [
       "                  table      key  line  \\\n",
       "0      tactic_param_pos   1934:9  1934   \n",
       "1      tactic_param_pos   1947:9  1947   \n",
       "2      tactic_param_pos   1948:9  1948   \n",
       "3      tactic_param_pos  1950:11  1950   \n",
       "4      tactic_param_pos  1950:18  1950   \n",
       "...                 ...      ...   ...   \n",
       "57286  tactic_param_pos    99:58    99   \n",
       "57287  tactic_param_pos   100:29   100   \n",
       "57288  tactic_param_pos   100:54   100   \n",
       "57289  tactic_param_pos   101:29   101   \n",
       "57290  tactic_param_pos   101:44   101   \n",
       "\n",
       "                                      filename  trace_pos_line  \\\n",
       "0      lean/library/init/meta/interactive.lean            1932   \n",
       "1      lean/library/init/meta/interactive.lean            1932   \n",
       "2      lean/library/init/meta/interactive.lean            1932   \n",
       "3      lean/library/init/meta/interactive.lean            1932   \n",
       "4      lean/library/init/meta/interactive.lean            1932   \n",
       "...                                        ...             ...   \n",
       "57286     mathlib/src/set_theory/cardinal.lean              96   \n",
       "57287     mathlib/src/set_theory/cardinal.lean              96   \n",
       "57288     mathlib/src/set_theory/cardinal.lean              96   \n",
       "57289     mathlib/src/set_theory/cardinal.lean              96   \n",
       "57290     mathlib/src/set_theory/cardinal.lean              96   \n",
       "\n",
       "       trace_pos_column  column  end_line  end_column  \n",
       "0                     6       9      1934           9  \n",
       "1                     6       9      1947          23  \n",
       "2                     6       9      1948          25  \n",
       "3                     6      11      1950          12  \n",
       "4                     6      18      1950          43  \n",
       "...                 ...     ...       ...         ...  \n",
       "57286                 1      58        99          71  \n",
       "57287                 1      29       100          46  \n",
       "57288                 1      54       100          85  \n",
       "57289                 1      29       101          36  \n",
       "57290                 1      44       101          60  \n",
       "\n",
       "[57291 rows x 9 columns]"
      ],
      "text/html": "<div>\n<style scoped>\n    .dataframe tbody tr th:only-of-type {\n        vertical-align: middle;\n    }\n\n    .dataframe tbody tr th {\n        vertical-align: top;\n    }\n\n    .dataframe thead th {\n        text-align: right;\n    }\n</style>\n<table border=\"1\" class=\"dataframe\">\n  <thead>\n    <tr style=\"text-align: right;\">\n      <th></th>\n      <th>table</th>\n      <th>key</th>\n      <th>line</th>\n      <th>filename</th>\n      <th>trace_pos_line</th>\n      <th>trace_pos_column</th>\n      <th>column</th>\n      <th>end_line</th>\n      <th>end_column</th>\n    </tr>\n  </thead>\n  <tbody>\n    <tr>\n      <th>0</th>\n      <td>tactic_param_pos</td>\n      <td>1934:9</td>\n      <td>1934</td>\n      <td>lean/library/init/meta/interactive.lean</td>\n      <td>1932</td>\n      <td>6</td>\n      <td>9</td>\n      <td>1934</td>\n      <td>9</td>\n    </tr>\n    <tr>\n      <th>1</th>\n      <td>tactic_param_pos</td>\n      <td>1947:9</td>\n      <td>1947</td>\n      <td>lean/library/init/meta/interactive.lean</td>\n      <td>1932</td>\n      <td>6</td>\n      <td>9</td>\n      <td>1947</td>\n      <td>23</td>\n    </tr>\n    <tr>\n      <th>2</th>\n      <td>tactic_param_pos</td>\n      <td>1948:9</td>\n      <td>1948</td>\n      <td>lean/library/init/meta/interactive.lean</td>\n      <td>1932</td>\n      <td>6</td>\n      <td>9</td>\n      <td>1948</td>\n      <td>25</td>\n    </tr>\n    <tr>\n      <th>3</th>\n      <td>tactic_param_pos</td>\n      <td>1950:11</td>\n      <td>1950</td>\n      <td>lean/library/init/meta/interactive.lean</td>\n      <td>1932</td>\n      <td>6</td>\n      <td>11</td>\n      <td>1950</td>\n      <td>12</td>\n    </tr>\n    <tr>\n      <th>4</th>\n      <td>tactic_param_pos</td>\n      <td>1950:18</td>\n      <td>1950</td>\n      <td>lean/library/init/meta/interactive.lean</td>\n      <td>1932</td>\n      <td>6</td>\n      <td>18</td>\n      <td>1950</td>\n      <td>43</td>\n    </tr>\n    <tr>\n      <th>...</th>\n      <td>...</td>\n      <td>...</td>\n      <td>...</td>\n      <td>...</td>\n      <td>...</td>\n      <td>...</td>\n      <td>...</td>\n      <td>...</td>\n      <td>...</td>\n    </tr>\n    <tr>\n      <th>57286</th>\n      <td>tactic_param_pos</td>\n      <td>99:58</td>\n      <td>99</td>\n      <td>mathlib/src/set_theory/cardinal.lean</td>\n      <td>96</td>\n      <td>1</td>\n      <td>58</td>\n      <td>99</td>\n      <td>71</td>\n    </tr>\n    <tr>\n      <th>57287</th>\n      <td>tactic_param_pos</td>\n      <td>100:29</td>\n      <td>100</td>\n      <td>mathlib/src/set_theory/cardinal.lean</td>\n      <td>96</td>\n      <td>1</td>\n      <td>29</td>\n      <td>100</td>\n      <td>46</td>\n    </tr>\n    <tr>\n      <th>57288</th>\n      <td>tactic_param_pos</td>\n      <td>100:54</td>\n      <td>100</td>\n      <td>mathlib/src/set_theory/cardinal.lean</td>\n      <td>96</td>\n      <td>1</td>\n      <td>54</td>\n      <td>100</td>\n      <td>85</td>\n    </tr>\n    <tr>\n      <th>57289</th>\n      <td>tactic_param_pos</td>\n      <td>101:29</td>\n      <td>101</td>\n      <td>mathlib/src/set_theory/cardinal.lean</td>\n      <td>96</td>\n      <td>1</td>\n      <td>29</td>\n      <td>101</td>\n      <td>36</td>\n    </tr>\n    <tr>\n      <th>57290</th>\n      <td>tactic_param_pos</td>\n      <td>101:44</td>\n      <td>101</td>\n      <td>mathlib/src/set_theory/cardinal.lean</td>\n      <td>96</td>\n      <td>1</td>\n      <td>44</td>\n      <td>101</td>\n      <td>60</td>\n    </tr>\n  </tbody>\n</table>\n<p>57291 rows × 9 columns</p>\n</div>"
     },
     "metadata": {},
     "execution_count": 6
    }
   ],
   "source": [
    "tactic_param_pos = pd.read_json(DATA_DIRECTORY + 'raw_traced_data/tactic_param_pos.json', orient='records')\n",
    "tactic_param_pos"
   ]
  },
  {
   "source": [
    "`tactic_param_value` includes a pretty printed version of the value passed to the tactic argument.  This is not necessarily how it appears in the lean code, but it is how Lean internally receives the data.  A user code add more tracing code to present this in more ways."
   ],
   "cell_type": "markdown",
   "metadata": {}
  },
  {
   "cell_type": "code",
   "execution_count": 7,
   "metadata": {},
   "outputs": [
    {
     "output_type": "execute_result",
     "data": {
      "text/plain": [
       "                    table      key  \\\n",
       "0      tactic_param_value   1934:9   \n",
       "1      tactic_param_value   1947:9   \n",
       "2      tactic_param_value   1948:9   \n",
       "3      tactic_param_value  1950:11   \n",
       "4      tactic_param_value  1950:34   \n",
       "...                   ...      ...   \n",
       "57286  tactic_param_value    99:58   \n",
       "57287  tactic_param_value   100:29   \n",
       "57288  tactic_param_value   100:54   \n",
       "57289  tactic_param_value   101:29   \n",
       "57290  tactic_param_value   101:44   \n",
       "\n",
       "                                       reflected_expr_pp  \\\n",
       "0                                               list.nil   \n",
       "1                                     ``(_root_.propext)   \n",
       "2                                   ``(_root_.iff.intro)   \n",
       "3               some (name.mk_string \"_\" name.anonymous)   \n",
       "4                                                some ()   \n",
       "...                                                  ...   \n",
       "57286                                ``(_ (e₁.trans e₂))   \n",
       "57287  sum.inl\\n  [tactic.rcases_patt.tuple [tactic.r...   \n",
       "57288                ``(quotient.sound (e₁.antisymm e₂))   \n",
       "57289  sum.inl\\n  [tactic.rcases_patt.tuple [tactic.r...   \n",
       "57290                                ``(embedding.total)   \n",
       "\n",
       "                                      filename  trace_pos_line  \\\n",
       "0      lean/library/init/meta/interactive.lean            1932   \n",
       "1      lean/library/init/meta/interactive.lean            1932   \n",
       "2      lean/library/init/meta/interactive.lean            1932   \n",
       "3      lean/library/init/meta/interactive.lean            1932   \n",
       "4      lean/library/init/meta/interactive.lean            1932   \n",
       "...                                        ...             ...   \n",
       "57286     mathlib/src/set_theory/cardinal.lean              96   \n",
       "57287     mathlib/src/set_theory/cardinal.lean              96   \n",
       "57288     mathlib/src/set_theory/cardinal.lean              96   \n",
       "57289     mathlib/src/set_theory/cardinal.lean              96   \n",
       "57290     mathlib/src/set_theory/cardinal.lean              96   \n",
       "\n",
       "       trace_pos_column  \n",
       "0                     6  \n",
       "1                     6  \n",
       "2                     6  \n",
       "3                     6  \n",
       "4                     6  \n",
       "...                 ...  \n",
       "57286                 1  \n",
       "57287                 1  \n",
       "57288                 1  \n",
       "57289                 1  \n",
       "57290                 1  \n",
       "\n",
       "[57291 rows x 6 columns]"
      ],
      "text/html": "<div>\n<style scoped>\n    .dataframe tbody tr th:only-of-type {\n        vertical-align: middle;\n    }\n\n    .dataframe tbody tr th {\n        vertical-align: top;\n    }\n\n    .dataframe thead th {\n        text-align: right;\n    }\n</style>\n<table border=\"1\" class=\"dataframe\">\n  <thead>\n    <tr style=\"text-align: right;\">\n      <th></th>\n      <th>table</th>\n      <th>key</th>\n      <th>reflected_expr_pp</th>\n      <th>filename</th>\n      <th>trace_pos_line</th>\n      <th>trace_pos_column</th>\n    </tr>\n  </thead>\n  <tbody>\n    <tr>\n      <th>0</th>\n      <td>tactic_param_value</td>\n      <td>1934:9</td>\n      <td>list.nil</td>\n      <td>lean/library/init/meta/interactive.lean</td>\n      <td>1932</td>\n      <td>6</td>\n    </tr>\n    <tr>\n      <th>1</th>\n      <td>tactic_param_value</td>\n      <td>1947:9</td>\n      <td>``(_root_.propext)</td>\n      <td>lean/library/init/meta/interactive.lean</td>\n      <td>1932</td>\n      <td>6</td>\n    </tr>\n    <tr>\n      <th>2</th>\n      <td>tactic_param_value</td>\n      <td>1948:9</td>\n      <td>``(_root_.iff.intro)</td>\n      <td>lean/library/init/meta/interactive.lean</td>\n      <td>1932</td>\n      <td>6</td>\n    </tr>\n    <tr>\n      <th>3</th>\n      <td>tactic_param_value</td>\n      <td>1950:11</td>\n      <td>some (name.mk_string \"_\" name.anonymous)</td>\n      <td>lean/library/init/meta/interactive.lean</td>\n      <td>1932</td>\n      <td>6</td>\n    </tr>\n    <tr>\n      <th>4</th>\n      <td>tactic_param_value</td>\n      <td>1950:34</td>\n      <td>some ()</td>\n      <td>lean/library/init/meta/interactive.lean</td>\n      <td>1932</td>\n      <td>6</td>\n    </tr>\n    <tr>\n      <th>...</th>\n      <td>...</td>\n      <td>...</td>\n      <td>...</td>\n      <td>...</td>\n      <td>...</td>\n      <td>...</td>\n    </tr>\n    <tr>\n      <th>57286</th>\n      <td>tactic_param_value</td>\n      <td>99:58</td>\n      <td>``(_ (e₁.trans e₂))</td>\n      <td>mathlib/src/set_theory/cardinal.lean</td>\n      <td>96</td>\n      <td>1</td>\n    </tr>\n    <tr>\n      <th>57287</th>\n      <td>tactic_param_value</td>\n      <td>100:29</td>\n      <td>sum.inl\\n  [tactic.rcases_patt.tuple [tactic.r...</td>\n      <td>mathlib/src/set_theory/cardinal.lean</td>\n      <td>96</td>\n      <td>1</td>\n    </tr>\n    <tr>\n      <th>57288</th>\n      <td>tactic_param_value</td>\n      <td>100:54</td>\n      <td>``(quotient.sound (e₁.antisymm e₂))</td>\n      <td>mathlib/src/set_theory/cardinal.lean</td>\n      <td>96</td>\n      <td>1</td>\n    </tr>\n    <tr>\n      <th>57289</th>\n      <td>tactic_param_value</td>\n      <td>101:29</td>\n      <td>sum.inl\\n  [tactic.rcases_patt.tuple [tactic.r...</td>\n      <td>mathlib/src/set_theory/cardinal.lean</td>\n      <td>96</td>\n      <td>1</td>\n    </tr>\n    <tr>\n      <th>57290</th>\n      <td>tactic_param_value</td>\n      <td>101:44</td>\n      <td>``(embedding.total)</td>\n      <td>mathlib/src/set_theory/cardinal.lean</td>\n      <td>96</td>\n      <td>1</td>\n    </tr>\n  </tbody>\n</table>\n<p>57291 rows × 6 columns</p>\n</div>"
     },
     "metadata": {},
     "execution_count": 7
    }
   ],
   "source": [
    "tactic_param_value = pd.read_json(DATA_DIRECTORY + 'raw_traced_data/tactic_param_value.json', orient='records')\n",
    "tactic_param_value"
   ]
  },
  {
   "source": [
    "## Extracted Proof Data"
   ],
   "cell_type": "markdown",
   "metadata": {}
  },
  {
   "source": [
    "The data extraction is still a work in progress, but so far we have the following data extracting the proofs from the code."
   ],
   "cell_type": "markdown",
   "metadata": {}
  },
  {
   "source": [
    "`proof_trees.json` is a list of abstract syntax trees for each proof.  It doesn't contain much data itself, but has keys to rows in the following tables.  (Unlike the other datasets, this is not a 2D table.)"
   ],
   "cell_type": "markdown",
   "metadata": {}
  },
  {
   "cell_type": "code",
   "execution_count": 8,
   "metadata": {},
   "outputs": [
    {
     "output_type": "execute_result",
     "data": {
      "text/plain": [
       "{'key': 'lean/library/data/buffer.lean:48:1',\n",
       " 'node_type': 'proof',\n",
       " 'node_subtype': 'by',\n",
       " 'tactic': {'key': 'lean/library/data/buffer.lean:48:30',\n",
       "  'node_type': 'tactic',\n",
       "  'node_subtype': 'semicolon',\n",
       "  'tactic1': {'key': 'lean/library/data/buffer.lean:48:11',\n",
       "   'node_type': 'tactic',\n",
       "   'node_subtype': 'semicolon',\n",
       "   'tactic1': {'key': 'lean/library/data/buffer.lean:48:4',\n",
       "    'node_type': 'tactic',\n",
       "    'node_subtype': 'named',\n",
       "    'args': [{'key': 'lean/library/data/buffer.lean:48:10',\n",
       "      'node_type': 'tactic_arg',\n",
       "      'node_subtype': 'expression'},\n",
       "     {'key': 'lean/library/data/buffer.lean:48:11',\n",
       "      'node_type': 'tactic_arg',\n",
       "      'node_subtype': 'expression'}]},\n",
       "   'tactic2': {'key': 'lean/library/data/buffer.lean:48:13',\n",
       "    'node_type': 'tactic',\n",
       "    'node_subtype': 'named',\n",
       "    'args': [{'key': 'lean/library/data/buffer.lean:48:20',\n",
       "      'node_type': 'tactic_arg',\n",
       "      'node_subtype': 'expression'},\n",
       "     {'key': 'lean/library/data/buffer.lean:48:30',\n",
       "      'node_type': 'tactic_arg',\n",
       "      'node_subtype': 'expression'}]}},\n",
       "  'tactic2': {'key': 'lean/library/data/buffer.lean:48:32',\n",
       "   'node_type': 'tactic',\n",
       "   'node_subtype': 'named',\n",
       "   'args': [{'key': 'lean/library/data/buffer.lean:48:37',\n",
       "     'node_type': 'tactic_arg',\n",
       "     'node_subtype': 'expression'},\n",
       "    {'key': 'lean/library/data/buffer.lean:50:1',\n",
       "     'node_type': 'tactic_arg',\n",
       "     'node_subtype': 'expression'}]}}}"
      ]
     },
     "metadata": {},
     "execution_count": 8
    }
   ],
   "source": [
    "with open(DATA_DIRECTORY + 'extracted_proof_data/proof_trees.json') as f:\n",
    "    proof_trees = json.load(f)\n",
    "proof_trees[0]"
   ]
  },
  {
   "source": [
    "`proofs.json` contains the Lean human-written text for all tactic proofs along with some other extracted information."
   ],
   "cell_type": "markdown",
   "metadata": {}
  },
  {
   "cell_type": "code",
   "execution_count": 9,
   "metadata": {},
   "outputs": [
    {
     "output_type": "execute_result",
     "data": {
      "text/plain": [
       "                                                     key  \\\n",
       "0                     lean/library/data/buffer.lean:48:1   \n",
       "1                     lean/library/data/buffer.lean:51:1   \n",
       "2              lean/library/data/buffer/parser.lean:29:1   \n",
       "3              lean/library/data/buffer/parser.lean:38:1   \n",
       "4                     lean/library/data/dlist.lean:50:26   \n",
       "...                                                  ...   \n",
       "12949  mathlib/src/testing/slim_check/testable.lean:4...   \n",
       "12950  mathlib/src/testing/slim_check/testable.lean:4...   \n",
       "12951  mathlib/src/testing/slim_check/testable.lean:4...   \n",
       "12952  mathlib/src/testing/slim_check/testable.lean:4...   \n",
       "12953  mathlib/src/testing/slim_check/testable.lean:4...   \n",
       "\n",
       "                                           filename  start_line  start_column  \\\n",
       "0                     lean/library/data/buffer.lean          48             1   \n",
       "1                     lean/library/data/buffer.lean          51             1   \n",
       "2              lean/library/data/buffer/parser.lean          29             1   \n",
       "3              lean/library/data/buffer/parser.lean          38             1   \n",
       "4                      lean/library/data/dlist.lean          50            26   \n",
       "...                                             ...         ...           ...   \n",
       "12949  mathlib/src/testing/slim_check/testable.lean         419            35   \n",
       "12950  mathlib/src/testing/slim_check/testable.lean         423            35   \n",
       "12951  mathlib/src/testing/slim_check/testable.lean         428            37   \n",
       "12952  mathlib/src/testing/slim_check/testable.lean         435            24   \n",
       "12953  mathlib/src/testing/slim_check/testable.lean         446             5   \n",
       "\n",
       "       end_line  end_column  \\\n",
       "0            50           1   \n",
       "1            53           1   \n",
       "2            36           1   \n",
       "3            47           1   \n",
       "4            50          63   \n",
       "...         ...         ...   \n",
       "12949       419          70   \n",
       "12950       425          57   \n",
       "12951       429          64   \n",
       "12952       436          64   \n",
       "12953       446          36   \n",
       "\n",
       "                                             code_string  class parent_key  \\\n",
       "0      by cases b; unfold read read'; simp [array.rea...     by              \n",
       "1      by cases b; unfold write write'; simp [array.w...     by              \n",
       "2      begin apply funext, intro input, apply funext,...  begin              \n",
       "3      begin apply funext, intro input, apply funext,...  begin              \n",
       "4                  by abstract { intros, simp, rw [←h] }     by              \n",
       "...                                                  ...    ...        ...   \n",
       "12949                by { intro h, apply h, left, refl }     by              \n",
       "12950     by { intros h i h', apply h, right, apply h' }     by              \n",
       "12951  by { intros j h, simp only [ball_cons,named_bi...     by              \n",
       "12952  by { simp only [ball_cons,named_binder], apply...     by              \n",
       "12953                    by { rw [length_map], apply h }     by              \n",
       "\n",
       "      parent_type  index  line  column  \\\n",
       "0                      0    48       1   \n",
       "1                      0    51       1   \n",
       "2                      0    29       1   \n",
       "3                      0    38       1   \n",
       "4                      0    50      26   \n",
       "...           ...    ...   ...     ...   \n",
       "12949                  0   419      35   \n",
       "12950                  0   423      35   \n",
       "12951                  0   428      37   \n",
       "12952                  0   435      24   \n",
       "12953                  0   446       5   \n",
       "\n",
       "                                        first_tactic_key  \n",
       "0                    lean/library/data/buffer.lean:48:30  \n",
       "1                    lean/library/data/buffer.lean:51:32  \n",
       "2              lean/library/data/buffer/parser.lean:30:1  \n",
       "3              lean/library/data/buffer/parser.lean:39:1  \n",
       "4                     lean/library/data/dlist.lean:50:29  \n",
       "...                                                  ...  \n",
       "12949  mathlib/src/testing/slim_check/testable.lean:4...  \n",
       "12950  mathlib/src/testing/slim_check/testable.lean:4...  \n",
       "12951  mathlib/src/testing/slim_check/testable.lean:4...  \n",
       "12952  mathlib/src/testing/slim_check/testable.lean:4...  \n",
       "12953  mathlib/src/testing/slim_check/testable.lean:4...  \n",
       "\n",
       "[12954 rows x 14 columns]"
      ],
      "text/html": "<div>\n<style scoped>\n    .dataframe tbody tr th:only-of-type {\n        vertical-align: middle;\n    }\n\n    .dataframe tbody tr th {\n        vertical-align: top;\n    }\n\n    .dataframe thead th {\n        text-align: right;\n    }\n</style>\n<table border=\"1\" class=\"dataframe\">\n  <thead>\n    <tr style=\"text-align: right;\">\n      <th></th>\n      <th>key</th>\n      <th>filename</th>\n      <th>start_line</th>\n      <th>start_column</th>\n      <th>end_line</th>\n      <th>end_column</th>\n      <th>code_string</th>\n      <th>class</th>\n      <th>parent_key</th>\n      <th>parent_type</th>\n      <th>index</th>\n      <th>line</th>\n      <th>column</th>\n      <th>first_tactic_key</th>\n    </tr>\n  </thead>\n  <tbody>\n    <tr>\n      <th>0</th>\n      <td>lean/library/data/buffer.lean:48:1</td>\n      <td>lean/library/data/buffer.lean</td>\n      <td>48</td>\n      <td>1</td>\n      <td>50</td>\n      <td>1</td>\n      <td>by cases b; unfold read read'; simp [array.rea...</td>\n      <td>by</td>\n      <td></td>\n      <td></td>\n      <td>0</td>\n      <td>48</td>\n      <td>1</td>\n      <td>lean/library/data/buffer.lean:48:30</td>\n    </tr>\n    <tr>\n      <th>1</th>\n      <td>lean/library/data/buffer.lean:51:1</td>\n      <td>lean/library/data/buffer.lean</td>\n      <td>51</td>\n      <td>1</td>\n      <td>53</td>\n      <td>1</td>\n      <td>by cases b; unfold write write'; simp [array.w...</td>\n      <td>by</td>\n      <td></td>\n      <td></td>\n      <td>0</td>\n      <td>51</td>\n      <td>1</td>\n      <td>lean/library/data/buffer.lean:51:32</td>\n    </tr>\n    <tr>\n      <th>2</th>\n      <td>lean/library/data/buffer/parser.lean:29:1</td>\n      <td>lean/library/data/buffer/parser.lean</td>\n      <td>29</td>\n      <td>1</td>\n      <td>36</td>\n      <td>1</td>\n      <td>begin apply funext, intro input, apply funext,...</td>\n      <td>begin</td>\n      <td></td>\n      <td></td>\n      <td>0</td>\n      <td>29</td>\n      <td>1</td>\n      <td>lean/library/data/buffer/parser.lean:30:1</td>\n    </tr>\n    <tr>\n      <th>3</th>\n      <td>lean/library/data/buffer/parser.lean:38:1</td>\n      <td>lean/library/data/buffer/parser.lean</td>\n      <td>38</td>\n      <td>1</td>\n      <td>47</td>\n      <td>1</td>\n      <td>begin apply funext, intro input, apply funext,...</td>\n      <td>begin</td>\n      <td></td>\n      <td></td>\n      <td>0</td>\n      <td>38</td>\n      <td>1</td>\n      <td>lean/library/data/buffer/parser.lean:39:1</td>\n    </tr>\n    <tr>\n      <th>4</th>\n      <td>lean/library/data/dlist.lean:50:26</td>\n      <td>lean/library/data/dlist.lean</td>\n      <td>50</td>\n      <td>26</td>\n      <td>50</td>\n      <td>63</td>\n      <td>by abstract { intros, simp, rw [←h] }</td>\n      <td>by</td>\n      <td></td>\n      <td></td>\n      <td>0</td>\n      <td>50</td>\n      <td>26</td>\n      <td>lean/library/data/dlist.lean:50:29</td>\n    </tr>\n    <tr>\n      <th>...</th>\n      <td>...</td>\n      <td>...</td>\n      <td>...</td>\n      <td>...</td>\n      <td>...</td>\n      <td>...</td>\n      <td>...</td>\n      <td>...</td>\n      <td>...</td>\n      <td>...</td>\n      <td>...</td>\n      <td>...</td>\n      <td>...</td>\n      <td>...</td>\n    </tr>\n    <tr>\n      <th>12949</th>\n      <td>mathlib/src/testing/slim_check/testable.lean:4...</td>\n      <td>mathlib/src/testing/slim_check/testable.lean</td>\n      <td>419</td>\n      <td>35</td>\n      <td>419</td>\n      <td>70</td>\n      <td>by { intro h, apply h, left, refl }</td>\n      <td>by</td>\n      <td></td>\n      <td></td>\n      <td>0</td>\n      <td>419</td>\n      <td>35</td>\n      <td>mathlib/src/testing/slim_check/testable.lean:4...</td>\n    </tr>\n    <tr>\n      <th>12950</th>\n      <td>mathlib/src/testing/slim_check/testable.lean:4...</td>\n      <td>mathlib/src/testing/slim_check/testable.lean</td>\n      <td>423</td>\n      <td>35</td>\n      <td>425</td>\n      <td>57</td>\n      <td>by { intros h i h', apply h, right, apply h' }</td>\n      <td>by</td>\n      <td></td>\n      <td></td>\n      <td>0</td>\n      <td>423</td>\n      <td>35</td>\n      <td>mathlib/src/testing/slim_check/testable.lean:4...</td>\n    </tr>\n    <tr>\n      <th>12951</th>\n      <td>mathlib/src/testing/slim_check/testable.lean:4...</td>\n      <td>mathlib/src/testing/slim_check/testable.lean</td>\n      <td>428</td>\n      <td>37</td>\n      <td>429</td>\n      <td>64</td>\n      <td>by { intros j h, simp only [ball_cons,named_bi...</td>\n      <td>by</td>\n      <td></td>\n      <td></td>\n      <td>0</td>\n      <td>428</td>\n      <td>37</td>\n      <td>mathlib/src/testing/slim_check/testable.lean:4...</td>\n    </tr>\n    <tr>\n      <th>12952</th>\n      <td>mathlib/src/testing/slim_check/testable.lean:4...</td>\n      <td>mathlib/src/testing/slim_check/testable.lean</td>\n      <td>435</td>\n      <td>24</td>\n      <td>436</td>\n      <td>64</td>\n      <td>by { simp only [ball_cons,named_binder], apply...</td>\n      <td>by</td>\n      <td></td>\n      <td></td>\n      <td>0</td>\n      <td>435</td>\n      <td>24</td>\n      <td>mathlib/src/testing/slim_check/testable.lean:4...</td>\n    </tr>\n    <tr>\n      <th>12953</th>\n      <td>mathlib/src/testing/slim_check/testable.lean:4...</td>\n      <td>mathlib/src/testing/slim_check/testable.lean</td>\n      <td>446</td>\n      <td>5</td>\n      <td>446</td>\n      <td>36</td>\n      <td>by { rw [length_map], apply h }</td>\n      <td>by</td>\n      <td></td>\n      <td></td>\n      <td>0</td>\n      <td>446</td>\n      <td>5</td>\n      <td>mathlib/src/testing/slim_check/testable.lean:4...</td>\n    </tr>\n  </tbody>\n</table>\n<p>12954 rows × 14 columns</p>\n</div>"
     },
     "metadata": {},
     "execution_count": 9
    }
   ],
   "source": [
    "proofs = pd.read_json(DATA_DIRECTORY + 'extracted_proof_data/proofs.json', orient='records')\n",
    "proofs"
   ]
  },
  {
   "source": [
    "`tactics.json` contains the Lean human-written text for all tactic commands along with some other extracted information."
   ],
   "cell_type": "markdown",
   "metadata": {}
  },
  {
   "cell_type": "code",
   "execution_count": 10,
   "metadata": {},
   "outputs": [
    {
     "output_type": "execute_result",
     "data": {
      "text/plain": [
       "                                                     key  \\\n",
       "0                     lean/library/data/buffer.lean:48:4   \n",
       "1                    lean/library/data/buffer.lean:48:13   \n",
       "2                    lean/library/data/buffer.lean:48:11   \n",
       "3                    lean/library/data/buffer.lean:48:32   \n",
       "4                    lean/library/data/buffer.lean:48:30   \n",
       "...                                                  ...   \n",
       "51259  mathlib/src/testing/slim_check/testable.lean:4...   \n",
       "51260  mathlib/src/testing/slim_check/testable.lean:4...   \n",
       "51261  mathlib/src/testing/slim_check/testable.lean:4...   \n",
       "51262  mathlib/src/testing/slim_check/testable.lean:4...   \n",
       "51263  mathlib/src/testing/slim_check/testable.lean:4...   \n",
       "\n",
       "                                           filename  start_line  start_column  \\\n",
       "0                     lean/library/data/buffer.lean          48             4   \n",
       "1                     lean/library/data/buffer.lean          48            13   \n",
       "2                     lean/library/data/buffer.lean          48             4   \n",
       "3                     lean/library/data/buffer.lean          48            32   \n",
       "4                     lean/library/data/buffer.lean          48             4   \n",
       "...                                             ...         ...           ...   \n",
       "51259  mathlib/src/testing/slim_check/testable.lean         436            29   \n",
       "51260  mathlib/src/testing/slim_check/testable.lean         435            27   \n",
       "51261  mathlib/src/testing/slim_check/testable.lean         446            10   \n",
       "51262  mathlib/src/testing/slim_check/testable.lean         446            27   \n",
       "51263  mathlib/src/testing/slim_check/testable.lean         446             8   \n",
       "\n",
       "       end_line  end_column  \\\n",
       "0            48          11   \n",
       "1            48          30   \n",
       "2            48          30   \n",
       "3            50           1   \n",
       "4            50           1   \n",
       "...         ...         ...   \n",
       "51259       436          61   \n",
       "51260       436          64   \n",
       "51261       446          25   \n",
       "51262       446          35   \n",
       "51263       446          36   \n",
       "\n",
       "                                             code_string      class  \\\n",
       "0                                                cases b      named   \n",
       "1                                      unfold read read'      named   \n",
       "2                             cases b; unfold read read'  semicolon   \n",
       "3                             simp [array.read_eq_read']      named   \n",
       "4      cases b; unfold read read'; simp [array.read_e...  semicolon   \n",
       "...                                                  ...        ...   \n",
       "51259                   apply not_and_of_not_right _ Hce      named   \n",
       "51260  { simp only [ball_cons,named_binder], apply no...     solve1   \n",
       "51261                                    rw [length_map]      named   \n",
       "51262                                            apply h      named   \n",
       "51263                       { rw [length_map], apply h }     solve1   \n",
       "\n",
       "                                              parent_key parent_type  index  \\\n",
       "0                    lean/library/data/buffer.lean:48:11      tactic      0   \n",
       "1                    lean/library/data/buffer.lean:48:11      tactic      1   \n",
       "2                    lean/library/data/buffer.lean:48:30      tactic      0   \n",
       "3                    lean/library/data/buffer.lean:48:30      tactic      1   \n",
       "4                     lean/library/data/buffer.lean:48:1       proof      0   \n",
       "...                                                  ...         ...    ...   \n",
       "51259  mathlib/src/testing/slim_check/testable.lean:4...      tactic      1   \n",
       "51260  mathlib/src/testing/slim_check/testable.lean:4...       proof      0   \n",
       "51261  mathlib/src/testing/slim_check/testable.lean:4...      tactic      0   \n",
       "51262  mathlib/src/testing/slim_check/testable.lean:4...      tactic      1   \n",
       "51263  mathlib/src/testing/slim_check/testable.lean:4...       proof      0   \n",
       "\n",
       "       line  column                                          proof_key  \\\n",
       "0        48       4                 lean/library/data/buffer.lean:48:1   \n",
       "1        48      13                 lean/library/data/buffer.lean:48:1   \n",
       "2        48      11                 lean/library/data/buffer.lean:48:1   \n",
       "3        48      32                 lean/library/data/buffer.lean:48:1   \n",
       "4        48      30                 lean/library/data/buffer.lean:48:1   \n",
       "...     ...     ...                                                ...   \n",
       "51259   436      29  mathlib/src/testing/slim_check/testable.lean:4...   \n",
       "51260   435      27  mathlib/src/testing/slim_check/testable.lean:4...   \n",
       "51261   446      10  mathlib/src/testing/slim_check/testable.lean:4...   \n",
       "51262   446      27  mathlib/src/testing/slim_check/testable.lean:4...   \n",
       "51263   446       8  mathlib/src/testing/slim_check/testable.lean:4...   \n",
       "\n",
       "      trace_key  \n",
       "0        48:4:3  \n",
       "1       48:13:3  \n",
       "2       48:11:2  \n",
       "3       48:32:2  \n",
       "4       48:11:1  \n",
       "...         ...  \n",
       "51259  436:29:2  \n",
       "51260  436:63:1  \n",
       "51261  446:10:2  \n",
       "51262  446:27:2  \n",
       "51263  446:35:1  \n",
       "\n",
       "[51264 rows x 15 columns]"
      ],
      "text/html": "<div>\n<style scoped>\n    .dataframe tbody tr th:only-of-type {\n        vertical-align: middle;\n    }\n\n    .dataframe tbody tr th {\n        vertical-align: top;\n    }\n\n    .dataframe thead th {\n        text-align: right;\n    }\n</style>\n<table border=\"1\" class=\"dataframe\">\n  <thead>\n    <tr style=\"text-align: right;\">\n      <th></th>\n      <th>key</th>\n      <th>filename</th>\n      <th>start_line</th>\n      <th>start_column</th>\n      <th>end_line</th>\n      <th>end_column</th>\n      <th>code_string</th>\n      <th>class</th>\n      <th>parent_key</th>\n      <th>parent_type</th>\n      <th>index</th>\n      <th>line</th>\n      <th>column</th>\n      <th>proof_key</th>\n      <th>trace_key</th>\n    </tr>\n  </thead>\n  <tbody>\n    <tr>\n      <th>0</th>\n      <td>lean/library/data/buffer.lean:48:4</td>\n      <td>lean/library/data/buffer.lean</td>\n      <td>48</td>\n      <td>4</td>\n      <td>48</td>\n      <td>11</td>\n      <td>cases b</td>\n      <td>named</td>\n      <td>lean/library/data/buffer.lean:48:11</td>\n      <td>tactic</td>\n      <td>0</td>\n      <td>48</td>\n      <td>4</td>\n      <td>lean/library/data/buffer.lean:48:1</td>\n      <td>48:4:3</td>\n    </tr>\n    <tr>\n      <th>1</th>\n      <td>lean/library/data/buffer.lean:48:13</td>\n      <td>lean/library/data/buffer.lean</td>\n      <td>48</td>\n      <td>13</td>\n      <td>48</td>\n      <td>30</td>\n      <td>unfold read read'</td>\n      <td>named</td>\n      <td>lean/library/data/buffer.lean:48:11</td>\n      <td>tactic</td>\n      <td>1</td>\n      <td>48</td>\n      <td>13</td>\n      <td>lean/library/data/buffer.lean:48:1</td>\n      <td>48:13:3</td>\n    </tr>\n    <tr>\n      <th>2</th>\n      <td>lean/library/data/buffer.lean:48:11</td>\n      <td>lean/library/data/buffer.lean</td>\n      <td>48</td>\n      <td>4</td>\n      <td>48</td>\n      <td>30</td>\n      <td>cases b; unfold read read'</td>\n      <td>semicolon</td>\n      <td>lean/library/data/buffer.lean:48:30</td>\n      <td>tactic</td>\n      <td>0</td>\n      <td>48</td>\n      <td>11</td>\n      <td>lean/library/data/buffer.lean:48:1</td>\n      <td>48:11:2</td>\n    </tr>\n    <tr>\n      <th>3</th>\n      <td>lean/library/data/buffer.lean:48:32</td>\n      <td>lean/library/data/buffer.lean</td>\n      <td>48</td>\n      <td>32</td>\n      <td>50</td>\n      <td>1</td>\n      <td>simp [array.read_eq_read']</td>\n      <td>named</td>\n      <td>lean/library/data/buffer.lean:48:30</td>\n      <td>tactic</td>\n      <td>1</td>\n      <td>48</td>\n      <td>32</td>\n      <td>lean/library/data/buffer.lean:48:1</td>\n      <td>48:32:2</td>\n    </tr>\n    <tr>\n      <th>4</th>\n      <td>lean/library/data/buffer.lean:48:30</td>\n      <td>lean/library/data/buffer.lean</td>\n      <td>48</td>\n      <td>4</td>\n      <td>50</td>\n      <td>1</td>\n      <td>cases b; unfold read read'; simp [array.read_e...</td>\n      <td>semicolon</td>\n      <td>lean/library/data/buffer.lean:48:1</td>\n      <td>proof</td>\n      <td>0</td>\n      <td>48</td>\n      <td>30</td>\n      <td>lean/library/data/buffer.lean:48:1</td>\n      <td>48:11:1</td>\n    </tr>\n    <tr>\n      <th>...</th>\n      <td>...</td>\n      <td>...</td>\n      <td>...</td>\n      <td>...</td>\n      <td>...</td>\n      <td>...</td>\n      <td>...</td>\n      <td>...</td>\n      <td>...</td>\n      <td>...</td>\n      <td>...</td>\n      <td>...</td>\n      <td>...</td>\n      <td>...</td>\n      <td>...</td>\n    </tr>\n    <tr>\n      <th>51259</th>\n      <td>mathlib/src/testing/slim_check/testable.lean:4...</td>\n      <td>mathlib/src/testing/slim_check/testable.lean</td>\n      <td>436</td>\n      <td>29</td>\n      <td>436</td>\n      <td>61</td>\n      <td>apply not_and_of_not_right _ Hce</td>\n      <td>named</td>\n      <td>mathlib/src/testing/slim_check/testable.lean:4...</td>\n      <td>tactic</td>\n      <td>1</td>\n      <td>436</td>\n      <td>29</td>\n      <td>mathlib/src/testing/slim_check/testable.lean:4...</td>\n      <td>436:29:2</td>\n    </tr>\n    <tr>\n      <th>51260</th>\n      <td>mathlib/src/testing/slim_check/testable.lean:4...</td>\n      <td>mathlib/src/testing/slim_check/testable.lean</td>\n      <td>435</td>\n      <td>27</td>\n      <td>436</td>\n      <td>64</td>\n      <td>{ simp only [ball_cons,named_binder], apply no...</td>\n      <td>solve1</td>\n      <td>mathlib/src/testing/slim_check/testable.lean:4...</td>\n      <td>proof</td>\n      <td>0</td>\n      <td>435</td>\n      <td>27</td>\n      <td>mathlib/src/testing/slim_check/testable.lean:4...</td>\n      <td>436:63:1</td>\n    </tr>\n    <tr>\n      <th>51261</th>\n      <td>mathlib/src/testing/slim_check/testable.lean:4...</td>\n      <td>mathlib/src/testing/slim_check/testable.lean</td>\n      <td>446</td>\n      <td>10</td>\n      <td>446</td>\n      <td>25</td>\n      <td>rw [length_map]</td>\n      <td>named</td>\n      <td>mathlib/src/testing/slim_check/testable.lean:4...</td>\n      <td>tactic</td>\n      <td>0</td>\n      <td>446</td>\n      <td>10</td>\n      <td>mathlib/src/testing/slim_check/testable.lean:4...</td>\n      <td>446:10:2</td>\n    </tr>\n    <tr>\n      <th>51262</th>\n      <td>mathlib/src/testing/slim_check/testable.lean:4...</td>\n      <td>mathlib/src/testing/slim_check/testable.lean</td>\n      <td>446</td>\n      <td>27</td>\n      <td>446</td>\n      <td>35</td>\n      <td>apply h</td>\n      <td>named</td>\n      <td>mathlib/src/testing/slim_check/testable.lean:4...</td>\n      <td>tactic</td>\n      <td>1</td>\n      <td>446</td>\n      <td>27</td>\n      <td>mathlib/src/testing/slim_check/testable.lean:4...</td>\n      <td>446:27:2</td>\n    </tr>\n    <tr>\n      <th>51263</th>\n      <td>mathlib/src/testing/slim_check/testable.lean:4...</td>\n      <td>mathlib/src/testing/slim_check/testable.lean</td>\n      <td>446</td>\n      <td>8</td>\n      <td>446</td>\n      <td>36</td>\n      <td>{ rw [length_map], apply h }</td>\n      <td>solve1</td>\n      <td>mathlib/src/testing/slim_check/testable.lean:4...</td>\n      <td>proof</td>\n      <td>0</td>\n      <td>446</td>\n      <td>8</td>\n      <td>mathlib/src/testing/slim_check/testable.lean:4...</td>\n      <td>446:35:1</td>\n    </tr>\n  </tbody>\n</table>\n<p>51264 rows × 15 columns</p>\n</div>"
     },
     "metadata": {},
     "execution_count": 10
    }
   ],
   "source": [
    "tactics = pd.read_json(DATA_DIRECTORY + 'extracted_proof_data/tactics.json', orient='records')\n",
    "tactics"
   ]
  },
  {
   "source": [
    "`args.json` contains the Lean human-written text for all tactic arguements along with some other extracted information."
   ],
   "cell_type": "markdown",
   "metadata": {}
  },
  {
   "cell_type": "code",
   "execution_count": 11,
   "metadata": {},
   "outputs": [
    {
     "output_type": "execute_result",
     "data": {
      "text/plain": [
       "                                                     key  \\\n",
       "0                    lean/library/data/buffer.lean:48:10   \n",
       "1                    lean/library/data/buffer.lean:48:11   \n",
       "2                    lean/library/data/buffer.lean:48:20   \n",
       "3                    lean/library/data/buffer.lean:48:30   \n",
       "4                    lean/library/data/buffer.lean:48:37   \n",
       "...                                                  ...   \n",
       "57496  mathlib/src/testing/slim_check/testable.lean:4...   \n",
       "57497  mathlib/src/testing/slim_check/testable.lean:4...   \n",
       "57498  mathlib/src/testing/slim_check/testable.lean:4...   \n",
       "57499  mathlib/src/testing/slim_check/testable.lean:4...   \n",
       "57500  mathlib/src/testing/slim_check/testable.lean:4...   \n",
       "\n",
       "                                           filename  start_line  start_column  \\\n",
       "0                     lean/library/data/buffer.lean          48            10   \n",
       "1                     lean/library/data/buffer.lean          48            11   \n",
       "2                     lean/library/data/buffer.lean          48            20   \n",
       "3                     lean/library/data/buffer.lean          48            30   \n",
       "4                     lean/library/data/buffer.lean          48            37   \n",
       "...                                             ...         ...           ...   \n",
       "57496  mathlib/src/testing/slim_check/testable.lean         435            63   \n",
       "57497  mathlib/src/testing/slim_check/testable.lean         436            35   \n",
       "57498  mathlib/src/testing/slim_check/testable.lean         446            13   \n",
       "57499  mathlib/src/testing/slim_check/testable.lean         446            25   \n",
       "57500  mathlib/src/testing/slim_check/testable.lean         446            33   \n",
       "\n",
       "       end_line  end_column                 code_string       class  \\\n",
       "0            48          11                           b  expression   \n",
       "1            48          11                              expression   \n",
       "2            48          30                  read read'  expression   \n",
       "3            48          30                              expression   \n",
       "4            50           1       [array.read_eq_read']  expression   \n",
       "...         ...         ...                         ...         ...   \n",
       "57496       435          63                              expression   \n",
       "57497       436          61  not_and_of_not_right _ Hce  expression   \n",
       "57498       446          25                [length_map]  expression   \n",
       "57499       446          25                              expression   \n",
       "57500       446          35                           h  expression   \n",
       "\n",
       "                                              parent_key parent_type  index  \\\n",
       "0                     lean/library/data/buffer.lean:48:4      tactic      0   \n",
       "1                     lean/library/data/buffer.lean:48:4      tactic      1   \n",
       "2                    lean/library/data/buffer.lean:48:13      tactic      0   \n",
       "3                    lean/library/data/buffer.lean:48:13      tactic      1   \n",
       "4                    lean/library/data/buffer.lean:48:32      tactic      0   \n",
       "...                                                  ...         ...    ...   \n",
       "57496  mathlib/src/testing/slim_check/testable.lean:4...      tactic      2   \n",
       "57497  mathlib/src/testing/slim_check/testable.lean:4...      tactic      0   \n",
       "57498  mathlib/src/testing/slim_check/testable.lean:4...      tactic      0   \n",
       "57499  mathlib/src/testing/slim_check/testable.lean:4...      tactic      1   \n",
       "57500  mathlib/src/testing/slim_check/testable.lean:4...      tactic      0   \n",
       "\n",
       "       line  column  \n",
       "0        48      10  \n",
       "1        48      11  \n",
       "2        48      20  \n",
       "3        48      30  \n",
       "4        48      37  \n",
       "...     ...     ...  \n",
       "57496   435      63  \n",
       "57497   436      35  \n",
       "57498   446      13  \n",
       "57499   446      25  \n",
       "57500   446      33  \n",
       "\n",
       "[57501 rows x 13 columns]"
      ],
      "text/html": "<div>\n<style scoped>\n    .dataframe tbody tr th:only-of-type {\n        vertical-align: middle;\n    }\n\n    .dataframe tbody tr th {\n        vertical-align: top;\n    }\n\n    .dataframe thead th {\n        text-align: right;\n    }\n</style>\n<table border=\"1\" class=\"dataframe\">\n  <thead>\n    <tr style=\"text-align: right;\">\n      <th></th>\n      <th>key</th>\n      <th>filename</th>\n      <th>start_line</th>\n      <th>start_column</th>\n      <th>end_line</th>\n      <th>end_column</th>\n      <th>code_string</th>\n      <th>class</th>\n      <th>parent_key</th>\n      <th>parent_type</th>\n      <th>index</th>\n      <th>line</th>\n      <th>column</th>\n    </tr>\n  </thead>\n  <tbody>\n    <tr>\n      <th>0</th>\n      <td>lean/library/data/buffer.lean:48:10</td>\n      <td>lean/library/data/buffer.lean</td>\n      <td>48</td>\n      <td>10</td>\n      <td>48</td>\n      <td>11</td>\n      <td>b</td>\n      <td>expression</td>\n      <td>lean/library/data/buffer.lean:48:4</td>\n      <td>tactic</td>\n      <td>0</td>\n      <td>48</td>\n      <td>10</td>\n    </tr>\n    <tr>\n      <th>1</th>\n      <td>lean/library/data/buffer.lean:48:11</td>\n      <td>lean/library/data/buffer.lean</td>\n      <td>48</td>\n      <td>11</td>\n      <td>48</td>\n      <td>11</td>\n      <td></td>\n      <td>expression</td>\n      <td>lean/library/data/buffer.lean:48:4</td>\n      <td>tactic</td>\n      <td>1</td>\n      <td>48</td>\n      <td>11</td>\n    </tr>\n    <tr>\n      <th>2</th>\n      <td>lean/library/data/buffer.lean:48:20</td>\n      <td>lean/library/data/buffer.lean</td>\n      <td>48</td>\n      <td>20</td>\n      <td>48</td>\n      <td>30</td>\n      <td>read read'</td>\n      <td>expression</td>\n      <td>lean/library/data/buffer.lean:48:13</td>\n      <td>tactic</td>\n      <td>0</td>\n      <td>48</td>\n      <td>20</td>\n    </tr>\n    <tr>\n      <th>3</th>\n      <td>lean/library/data/buffer.lean:48:30</td>\n      <td>lean/library/data/buffer.lean</td>\n      <td>48</td>\n      <td>30</td>\n      <td>48</td>\n      <td>30</td>\n      <td></td>\n      <td>expression</td>\n      <td>lean/library/data/buffer.lean:48:13</td>\n      <td>tactic</td>\n      <td>1</td>\n      <td>48</td>\n      <td>30</td>\n    </tr>\n    <tr>\n      <th>4</th>\n      <td>lean/library/data/buffer.lean:48:37</td>\n      <td>lean/library/data/buffer.lean</td>\n      <td>48</td>\n      <td>37</td>\n      <td>50</td>\n      <td>1</td>\n      <td>[array.read_eq_read']</td>\n      <td>expression</td>\n      <td>lean/library/data/buffer.lean:48:32</td>\n      <td>tactic</td>\n      <td>0</td>\n      <td>48</td>\n      <td>37</td>\n    </tr>\n    <tr>\n      <th>...</th>\n      <td>...</td>\n      <td>...</td>\n      <td>...</td>\n      <td>...</td>\n      <td>...</td>\n      <td>...</td>\n      <td>...</td>\n      <td>...</td>\n      <td>...</td>\n      <td>...</td>\n      <td>...</td>\n      <td>...</td>\n      <td>...</td>\n    </tr>\n    <tr>\n      <th>57496</th>\n      <td>mathlib/src/testing/slim_check/testable.lean:4...</td>\n      <td>mathlib/src/testing/slim_check/testable.lean</td>\n      <td>435</td>\n      <td>63</td>\n      <td>435</td>\n      <td>63</td>\n      <td></td>\n      <td>expression</td>\n      <td>mathlib/src/testing/slim_check/testable.lean:4...</td>\n      <td>tactic</td>\n      <td>2</td>\n      <td>435</td>\n      <td>63</td>\n    </tr>\n    <tr>\n      <th>57497</th>\n      <td>mathlib/src/testing/slim_check/testable.lean:4...</td>\n      <td>mathlib/src/testing/slim_check/testable.lean</td>\n      <td>436</td>\n      <td>35</td>\n      <td>436</td>\n      <td>61</td>\n      <td>not_and_of_not_right _ Hce</td>\n      <td>expression</td>\n      <td>mathlib/src/testing/slim_check/testable.lean:4...</td>\n      <td>tactic</td>\n      <td>0</td>\n      <td>436</td>\n      <td>35</td>\n    </tr>\n    <tr>\n      <th>57498</th>\n      <td>mathlib/src/testing/slim_check/testable.lean:4...</td>\n      <td>mathlib/src/testing/slim_check/testable.lean</td>\n      <td>446</td>\n      <td>13</td>\n      <td>446</td>\n      <td>25</td>\n      <td>[length_map]</td>\n      <td>expression</td>\n      <td>mathlib/src/testing/slim_check/testable.lean:4...</td>\n      <td>tactic</td>\n      <td>0</td>\n      <td>446</td>\n      <td>13</td>\n    </tr>\n    <tr>\n      <th>57499</th>\n      <td>mathlib/src/testing/slim_check/testable.lean:4...</td>\n      <td>mathlib/src/testing/slim_check/testable.lean</td>\n      <td>446</td>\n      <td>25</td>\n      <td>446</td>\n      <td>25</td>\n      <td></td>\n      <td>expression</td>\n      <td>mathlib/src/testing/slim_check/testable.lean:4...</td>\n      <td>tactic</td>\n      <td>1</td>\n      <td>446</td>\n      <td>25</td>\n    </tr>\n    <tr>\n      <th>57500</th>\n      <td>mathlib/src/testing/slim_check/testable.lean:4...</td>\n      <td>mathlib/src/testing/slim_check/testable.lean</td>\n      <td>446</td>\n      <td>33</td>\n      <td>446</td>\n      <td>35</td>\n      <td>h</td>\n      <td>expression</td>\n      <td>mathlib/src/testing/slim_check/testable.lean:4...</td>\n      <td>tactic</td>\n      <td>0</td>\n      <td>446</td>\n      <td>33</td>\n    </tr>\n  </tbody>\n</table>\n<p>57501 rows × 13 columns</p>\n</div>"
     },
     "metadata": {},
     "execution_count": 11
    }
   ],
   "source": [
    "args = pd.read_json(DATA_DIRECTORY + 'extracted_proof_data/args.json', orient='records')\n",
    "args"
   ]
  },
  {
   "source": [
    "## Examples of combining data"
   ],
   "cell_type": "markdown",
   "metadata": {}
  },
  {
   "source": [
    "Here we combine the above data sources to make a table containing:\n",
    "* First goals in the goal stack before the tactic is executed\n",
    "* The human written tactic command\n",
    "* A little metadata about the type of tactic.  If a \"named\" tactic, then the tactic name is the first word in the tactic command."
   ],
   "cell_type": "markdown",
   "metadata": {}
  },
  {
   "cell_type": "code",
   "execution_count": 12,
   "metadata": {},
   "outputs": [
    {
     "output_type": "execute_result",
     "data": {
      "text/plain": [
       "                                                 goal_pp  \\\n",
       "0      α : Type u,\\n_inst_1 : inhabited α,\\nb : buffe...   \n",
       "1      α : Type u,\\n_inst_1 : inhabited α,\\nb : buffe...   \n",
       "2      α : Type u,\\n_inst_1 : inhabited α,\\ni b_fst :...   \n",
       "3      α : Type u,\\n_inst_1 : inhabited α,\\ni b_fst :...   \n",
       "4      α : Type u,\\n_inst_1 : inhabited α,\\nb : buffe...   \n",
       "...                                                  ...   \n",
       "54595  var var' : string,\\nα : Type u,\\nβ : α → Prop,...   \n",
       "54596  var var' : string,\\nα : Type u,\\nβ : α → Prop,...   \n",
       "54597  p : Prop,\\nt : list (testable p),\\nh : 0 < t.l...   \n",
       "54598  p : Prop,\\nt : list (testable p),\\nh : 0 < t.l...   \n",
       "54599  p : Prop,\\nt : list (testable p),\\nh : 0 < t.l...   \n",
       "\n",
       "                                       human_tactic_code tactic_class  \n",
       "0      cases b; unfold read read'; simp [array.read_e...    semicolon  \n",
       "1                             cases b; unfold read read'    semicolon  \n",
       "2                                      unfold read read'        named  \n",
       "3                             simp [array.read_eq_read']        named  \n",
       "4                                                cases b        named  \n",
       "...                                                  ...          ...  \n",
       "54595                   apply not_and_of_not_right _ Hce        named  \n",
       "54596  { simp only [ball_cons,named_binder], apply no...       solve1  \n",
       "54597                                    rw [length_map]        named  \n",
       "54598                                            apply h        named  \n",
       "54599                       { rw [length_map], apply h }       solve1  \n",
       "\n",
       "[54229 rows x 3 columns]"
      ],
      "text/html": "<div>\n<style scoped>\n    .dataframe tbody tr th:only-of-type {\n        vertical-align: middle;\n    }\n\n    .dataframe tbody tr th {\n        vertical-align: top;\n    }\n\n    .dataframe thead th {\n        text-align: right;\n    }\n</style>\n<table border=\"1\" class=\"dataframe\">\n  <thead>\n    <tr style=\"text-align: right;\">\n      <th></th>\n      <th>goal_pp</th>\n      <th>human_tactic_code</th>\n      <th>tactic_class</th>\n    </tr>\n  </thead>\n  <tbody>\n    <tr>\n      <th>0</th>\n      <td>α : Type u,\\n_inst_1 : inhabited α,\\nb : buffe...</td>\n      <td>cases b; unfold read read'; simp [array.read_e...</td>\n      <td>semicolon</td>\n    </tr>\n    <tr>\n      <th>1</th>\n      <td>α : Type u,\\n_inst_1 : inhabited α,\\nb : buffe...</td>\n      <td>cases b; unfold read read'</td>\n      <td>semicolon</td>\n    </tr>\n    <tr>\n      <th>2</th>\n      <td>α : Type u,\\n_inst_1 : inhabited α,\\ni b_fst :...</td>\n      <td>unfold read read'</td>\n      <td>named</td>\n    </tr>\n    <tr>\n      <th>3</th>\n      <td>α : Type u,\\n_inst_1 : inhabited α,\\ni b_fst :...</td>\n      <td>simp [array.read_eq_read']</td>\n      <td>named</td>\n    </tr>\n    <tr>\n      <th>4</th>\n      <td>α : Type u,\\n_inst_1 : inhabited α,\\nb : buffe...</td>\n      <td>cases b</td>\n      <td>named</td>\n    </tr>\n    <tr>\n      <th>...</th>\n      <td>...</td>\n      <td>...</td>\n      <td>...</td>\n    </tr>\n    <tr>\n      <th>54595</th>\n      <td>var var' : string,\\nα : Type u,\\nβ : α → Prop,...</td>\n      <td>apply not_and_of_not_right _ Hce</td>\n      <td>named</td>\n    </tr>\n    <tr>\n      <th>54596</th>\n      <td>var var' : string,\\nα : Type u,\\nβ : α → Prop,...</td>\n      <td>{ simp only [ball_cons,named_binder], apply no...</td>\n      <td>solve1</td>\n    </tr>\n    <tr>\n      <th>54597</th>\n      <td>p : Prop,\\nt : list (testable p),\\nh : 0 &lt; t.l...</td>\n      <td>rw [length_map]</td>\n      <td>named</td>\n    </tr>\n    <tr>\n      <th>54598</th>\n      <td>p : Prop,\\nt : list (testable p),\\nh : 0 &lt; t.l...</td>\n      <td>apply h</td>\n      <td>named</td>\n    </tr>\n    <tr>\n      <th>54599</th>\n      <td>p : Prop,\\nt : list (testable p),\\nh : 0 &lt; t.l...</td>\n      <td>{ rw [length_map], apply h }</td>\n      <td>solve1</td>\n    </tr>\n  </tbody>\n</table>\n<p>54229 rows × 3 columns</p>\n</div>"
     },
     "metadata": {},
     "execution_count": 12
    }
   ],
   "source": [
    "df = tactic_state_goal.copy()\n",
    "df = df[df['ix'] == 0]\n",
    "#df['key'] = df['filename'] + \":\" + df['key']\n",
    "df['tactic_state_key'] = df['filename'] + \":\" + df['tactic_state']\n",
    "df = df[['tactic_state_key', 'goal_pp']]\n",
    "df = df.set_index('tactic_state_key')\n",
    "\n",
    "df2 = tactic_state.copy()\n",
    "df2 = df2[df2['before_after'] == 'before']\n",
    "df2['tactic_state_key'] = df2['filename'] + \":\" + df2['key']\n",
    "df2['tactic_instance_key'] = df2['filename'] + \":\" + df2['tactic_instance']\n",
    "df2['tactic_key'] = df2['tactic_instance_key'].apply(lambda k: \":\".join(k.split(\":\")[:-1]))\n",
    "df2 = df2[['tactic_state_key', 'tactic_instance_key', 'tactic_key']]\n",
    "df2 = df2.set_index('tactic_state_key')\n",
    "\n",
    "df = df.join(df2)\n",
    "df = df.set_index('tactic_key')\n",
    "df.head()\n",
    "\n",
    "df3 = tactics.copy()\n",
    "df3['tactic_key'] = df3['filename'] + \":\" + df3['trace_key']\n",
    "df3 = df3[['tactic_key', 'code_string', 'class']]\n",
    "df3 = df3.set_index('tactic_key')\n",
    "df = df.join(df3)\n",
    "df = df.reset_index()\n",
    "df = df[['goal_pp', 'code_string', 'class']]\n",
    "df = df.rename(columns={'class': 'tactic_class', 'code_string': 'human_tactic_code'})\n",
    "# some tactics are recorded by the tracing code, but correspond to tactics \n",
    "# instances in a `[...] block in, possibly, another file.  They are dropped here.\n",
    "df = df.dropna()  \n",
    "\n",
    "goals_and_tactics = df\n",
    "goals_and_tactics"
   ]
  },
  {
   "source": [
    "Each named tactic command can have a number of arguments.  Here we seperate the arguments showing both human supplied argument and the internal representation used by Lean."
   ],
   "cell_type": "markdown",
   "metadata": {}
  },
  {
   "cell_type": "code",
   "execution_count": 13,
   "metadata": {},
   "outputs": [
    {
     "output_type": "execute_result",
     "data": {
      "text/plain": [
       "                                              human_tactic_arg  \\\n",
       "                                                             0   \n",
       "human_tactic_code                                                \n",
       "unfold read read'                                   read read'   \n",
       "simp [array.read_eq_read']               [array.read_eq_read']   \n",
       "cases b                                                      b   \n",
       "unfold write write'                               write write'   \n",
       "simp [array.write_eq_write']           [array.write_eq_write']   \n",
       "...                                                        ...   \n",
       "assumption                                                 NaN   \n",
       "simp only [ball_cons,named_binder]                        only   \n",
       "apply not_and_of_not_right _ Hce    not_and_of_not_right _ Hce   \n",
       "rw [length_map]                                   [length_map]   \n",
       "apply h                                                      h   \n",
       "\n",
       "                                                                             \\\n",
       "                                                           1    2    3    4   \n",
       "human_tactic_code                                                             \n",
       "unfold read read'                                             NaN  NaN  NaN   \n",
       "simp [array.read_eq_read']                                    NaN  NaN  NaN   \n",
       "cases b                                                       NaN  NaN  NaN   \n",
       "unfold write write'                                           NaN  NaN  NaN   \n",
       "simp [array.write_eq_write']                                  NaN  NaN  NaN   \n",
       "...                                                      ...  ...  ...  ...   \n",
       "assumption                                               NaN  NaN  NaN  NaN   \n",
       "simp only [ball_cons,named_binder]  [ball_cons,named_binder]       NaN  NaN   \n",
       "apply not_and_of_not_right _ Hce                         NaN  NaN  NaN  NaN   \n",
       "rw [length_map]                                               NaN  NaN  NaN   \n",
       "apply h                                                  NaN  NaN  NaN  NaN   \n",
       "\n",
       "                                                                    reflected_expr_pp  \\\n",
       "                                                                                    0   \n",
       "human_tactic_code                                                                       \n",
       "unfold read read'                   [name.mk_string \"read\" name.anonymous, name.mk...   \n",
       "simp [array.read_eq_read']          [tactic.simp_arg_type.expr ``(array.read_eq_re...   \n",
       "cases b                                                            (none name, ``(b))   \n",
       "unfold write write'                 [name.mk_string \"write\" name.anonymous, name.m...   \n",
       "simp [array.write_eq_write']        [tactic.simp_arg_type.expr ``(array.write_eq_w...   \n",
       "...                                                                               ...   \n",
       "assumption                                                                        NaN   \n",
       "simp only [ball_cons,named_binder]                                                 tt   \n",
       "apply not_and_of_not_right _ Hce                       ``(not_and_of_not_right _ Hce)   \n",
       "rw [length_map]                     {rules := [{pos := {line := 446, column := 13}...   \n",
       "apply h                                                                         ``(h)   \n",
       "\n",
       "                                                                                       \\\n",
       "                                                                                    1   \n",
       "human_tactic_code                                                                       \n",
       "unfold read read'                                           interactive.loc.ns [none]   \n",
       "simp [array.read_eq_read']                                  interactive.loc.ns [none]   \n",
       "cases b                                                                      list.nil   \n",
       "unfold write write'                                         interactive.loc.ns [none]   \n",
       "simp [array.write_eq_write']                                interactive.loc.ns [none]   \n",
       "...                                                                               ...   \n",
       "assumption                                                                        NaN   \n",
       "simp only [ball_cons,named_binder]  [tactic.simp_arg_type.expr ``(ball_cons), tact...   \n",
       "apply not_and_of_not_right _ Hce                                                  NaN   \n",
       "rw [length_map]                                             interactive.loc.ns [none]   \n",
       "apply h                                                                           NaN   \n",
       "\n",
       "                                                                         \n",
       "                                                            2    3    4  \n",
       "human_tactic_code                                                        \n",
       "unfold read read'                                         NaN  NaN  NaN  \n",
       "simp [array.read_eq_read']                                NaN  NaN  NaN  \n",
       "cases b                                                   NaN  NaN  NaN  \n",
       "unfold write write'                                       NaN  NaN  NaN  \n",
       "simp [array.write_eq_write']                              NaN  NaN  NaN  \n",
       "...                                                       ...  ...  ...  \n",
       "assumption                                                NaN  NaN  NaN  \n",
       "simp only [ball_cons,named_binder]  interactive.loc.ns [none]  NaN  NaN  \n",
       "apply not_and_of_not_right _ Hce                          NaN  NaN  NaN  \n",
       "rw [length_map]                                           NaN  NaN  NaN  \n",
       "apply h                                                   NaN  NaN  NaN  \n",
       "\n",
       "[39148 rows x 10 columns]"
      ],
      "text/html": "<div>\n<style scoped>\n    .dataframe tbody tr th:only-of-type {\n        vertical-align: middle;\n    }\n\n    .dataframe tbody tr th {\n        vertical-align: top;\n    }\n\n    .dataframe thead tr th {\n        text-align: left;\n    }\n\n    .dataframe thead tr:last-of-type th {\n        text-align: right;\n    }\n</style>\n<table border=\"1\" class=\"dataframe\">\n  <thead>\n    <tr>\n      <th></th>\n      <th colspan=\"5\" halign=\"left\">human_tactic_arg</th>\n      <th colspan=\"5\" halign=\"left\">reflected_expr_pp</th>\n    </tr>\n    <tr>\n      <th></th>\n      <th>0</th>\n      <th>1</th>\n      <th>2</th>\n      <th>3</th>\n      <th>4</th>\n      <th>0</th>\n      <th>1</th>\n      <th>2</th>\n      <th>3</th>\n      <th>4</th>\n    </tr>\n    <tr>\n      <th>human_tactic_code</th>\n      <th></th>\n      <th></th>\n      <th></th>\n      <th></th>\n      <th></th>\n      <th></th>\n      <th></th>\n      <th></th>\n      <th></th>\n      <th></th>\n    </tr>\n  </thead>\n  <tbody>\n    <tr>\n      <th>unfold read read'</th>\n      <td>read read'</td>\n      <td></td>\n      <td>NaN</td>\n      <td>NaN</td>\n      <td>NaN</td>\n      <td>[name.mk_string \"read\" name.anonymous, name.mk...</td>\n      <td>interactive.loc.ns [none]</td>\n      <td>NaN</td>\n      <td>NaN</td>\n      <td>NaN</td>\n    </tr>\n    <tr>\n      <th>simp [array.read_eq_read']</th>\n      <td>[array.read_eq_read']</td>\n      <td></td>\n      <td>NaN</td>\n      <td>NaN</td>\n      <td>NaN</td>\n      <td>[tactic.simp_arg_type.expr ``(array.read_eq_re...</td>\n      <td>interactive.loc.ns [none]</td>\n      <td>NaN</td>\n      <td>NaN</td>\n      <td>NaN</td>\n    </tr>\n    <tr>\n      <th>cases b</th>\n      <td>b</td>\n      <td></td>\n      <td>NaN</td>\n      <td>NaN</td>\n      <td>NaN</td>\n      <td>(none name, ``(b))</td>\n      <td>list.nil</td>\n      <td>NaN</td>\n      <td>NaN</td>\n      <td>NaN</td>\n    </tr>\n    <tr>\n      <th>unfold write write'</th>\n      <td>write write'</td>\n      <td></td>\n      <td>NaN</td>\n      <td>NaN</td>\n      <td>NaN</td>\n      <td>[name.mk_string \"write\" name.anonymous, name.m...</td>\n      <td>interactive.loc.ns [none]</td>\n      <td>NaN</td>\n      <td>NaN</td>\n      <td>NaN</td>\n    </tr>\n    <tr>\n      <th>simp [array.write_eq_write']</th>\n      <td>[array.write_eq_write']</td>\n      <td></td>\n      <td>NaN</td>\n      <td>NaN</td>\n      <td>NaN</td>\n      <td>[tactic.simp_arg_type.expr ``(array.write_eq_w...</td>\n      <td>interactive.loc.ns [none]</td>\n      <td>NaN</td>\n      <td>NaN</td>\n      <td>NaN</td>\n    </tr>\n    <tr>\n      <th>...</th>\n      <td>...</td>\n      <td>...</td>\n      <td>...</td>\n      <td>...</td>\n      <td>...</td>\n      <td>...</td>\n      <td>...</td>\n      <td>...</td>\n      <td>...</td>\n      <td>...</td>\n    </tr>\n    <tr>\n      <th>assumption</th>\n      <td>NaN</td>\n      <td>NaN</td>\n      <td>NaN</td>\n      <td>NaN</td>\n      <td>NaN</td>\n      <td>NaN</td>\n      <td>NaN</td>\n      <td>NaN</td>\n      <td>NaN</td>\n      <td>NaN</td>\n    </tr>\n    <tr>\n      <th>simp only [ball_cons,named_binder]</th>\n      <td>only</td>\n      <td>[ball_cons,named_binder]</td>\n      <td></td>\n      <td>NaN</td>\n      <td>NaN</td>\n      <td>tt</td>\n      <td>[tactic.simp_arg_type.expr ``(ball_cons), tact...</td>\n      <td>interactive.loc.ns [none]</td>\n      <td>NaN</td>\n      <td>NaN</td>\n    </tr>\n    <tr>\n      <th>apply not_and_of_not_right _ Hce</th>\n      <td>not_and_of_not_right _ Hce</td>\n      <td>NaN</td>\n      <td>NaN</td>\n      <td>NaN</td>\n      <td>NaN</td>\n      <td>``(not_and_of_not_right _ Hce)</td>\n      <td>NaN</td>\n      <td>NaN</td>\n      <td>NaN</td>\n      <td>NaN</td>\n    </tr>\n    <tr>\n      <th>rw [length_map]</th>\n      <td>[length_map]</td>\n      <td></td>\n      <td>NaN</td>\n      <td>NaN</td>\n      <td>NaN</td>\n      <td>{rules := [{pos := {line := 446, column := 13}...</td>\n      <td>interactive.loc.ns [none]</td>\n      <td>NaN</td>\n      <td>NaN</td>\n      <td>NaN</td>\n    </tr>\n    <tr>\n      <th>apply h</th>\n      <td>h</td>\n      <td>NaN</td>\n      <td>NaN</td>\n      <td>NaN</td>\n      <td>NaN</td>\n      <td>``(h)</td>\n      <td>NaN</td>\n      <td>NaN</td>\n      <td>NaN</td>\n      <td>NaN</td>\n    </tr>\n  </tbody>\n</table>\n<p>39148 rows × 10 columns</p>\n</div>"
     },
     "metadata": {},
     "execution_count": 13
    }
   ],
   "source": [
    "df = tactic_param_value.copy()\n",
    "df['key'] = df['filename'] + \":\" + df['key']\n",
    "df = df.set_index('key')\n",
    "df = df[['reflected_expr_pp']]\n",
    "\n",
    "df2 = args.copy()\n",
    "df2 = df2.set_index('key')\n",
    "df2 = df2.rename(columns={'code_string': 'human_tactic_arg'})\n",
    "df2 = df2[['parent_key', 'index', 'human_tactic_arg']]\n",
    "df2\n",
    "\n",
    "# TODO: These keys aren't unique if one of the parameters is empty \n",
    "# It seems to join fine, but I'm confused why\n",
    "\n",
    "df3 = df2.join(df).reset_index()[['parent_key', 'index', 'human_tactic_arg', 'reflected_expr_pp']]\n",
    "df3 = df3.set_index('parent_key')\n",
    "df3 = df3.pivot_table(\n",
    "    values=['human_tactic_arg', 'reflected_expr_pp'],\n",
    "    index='parent_key',\n",
    "    columns='index',\n",
    "    aggfunc='first'\n",
    ")\n",
    "\n",
    "df4 = tactics.copy()\n",
    "df4 = df4[df4['class'] == \"named\"]\n",
    "df4 = df4[['key', 'code_string']]\n",
    "df4 = df4.rename(columns={'code_string': 'human_tactic_code'})\n",
    "df4 = df4.set_index('key')\n",
    "\n",
    "parsed_tactics = df4.join(df3)\n",
    "parsed_tactics = parsed_tactics.set_index('human_tactic_code')\n",
    "parsed_tactics.columns = pd.MultiIndex.from_tuples(parsed_tactics.columns)\n",
    "parsed_tactics"
   ]
  },
  {
   "source": [
    "## More coming"
   ],
   "cell_type": "markdown",
   "metadata": {}
  },
  {
   "source": [
    "The above datasets will be improved and more are coming."
   ],
   "cell_type": "markdown",
   "metadata": {}
  }
 ]
}